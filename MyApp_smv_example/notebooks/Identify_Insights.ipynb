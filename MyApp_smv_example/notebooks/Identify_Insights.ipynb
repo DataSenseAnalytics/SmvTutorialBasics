{
 "cells": [
  {
   "cell_type": "markdown",
   "metadata": {},
   "source": [
    "# Identify Insights\n",
    "\n",
    "When we have some available data, in many cases our ultimate goal to conduct data analyses is to answer various business questions such that the data can generate business values. With even one dataset, some business questions may be addressed and some insights could be identified.\n",
    "\n",
    "After the quick view that discussed in the previous section, we have developed a better sense of the information and the quality of the dataset, based on which we can start doing relatively detailed and complicated analyses.\n",
    "\n",
    "* <a href=#bookmark1>Preprocess Input Data</a>\n",
    "* <a href=#bookmark2>Quick Query</a>\n",
    "* <a href=#bookmark3>Ad-hoc Profiling</a>"
   ]
  },
  {
   "cell_type": "code",
   "execution_count": 1,
   "metadata": {
    "collapsed": true
   },
   "outputs": [],
   "source": [
    "# Import necessary packages\n",
    "import smv\n",
    "import sys\n",
    "from pandas import *\n",
    "from pyspark.sql import HiveContext, DataFrame\n",
    "from pyspark.sql.window import Window\n",
    "\n",
    "%matplotlib inline\n",
    "import matplotlib\n",
    "import matplotlib.pyplot as plt"
   ]
  },
  {
   "cell_type": "code",
   "execution_count": 2,
   "metadata": {
    "collapsed": true
   },
   "outputs": [],
   "source": [
    "# Read the input data from a csv file\n",
    "raw = openCsv(\"data/input/employment/CB1200CZ11.csv\")"
   ]
  },
  {
   "cell_type": "code",
   "execution_count": 3,
   "metadata": {
    "collapsed": true
   },
   "outputs": [],
   "source": [
    "# self-defined dataframe functions\n",
    "DataFrame.smvPdHead = lambda df, n: df.toPandas().head(n)\n",
    "DataFrame.smvPdFreqHist = lambda df,col: df.toPandas()[col].value_counts().plot(kind='bar')"
   ]
  },
  {
   "cell_type": "markdown",
   "metadata": {},
   "source": [
    "<a name='bookmark1'/>\n",
    "## Preprocess Input Data"
   ]
  },
  {
   "cell_type": "markdown",
   "metadata": {},
   "source": [
    "Assume we only have one dataset for the analysis. Before moving forward, based on the input data profile discussed in the previous section, input data need to be preprocessed to ease complicated analyses. Preprocess"
   ]
  },
  {
   "cell_type": "markdown",
   "metadata": {},
   "source": [
    "From the input data profile, we know that there are suppressed employment and payroll data. One can choose to do the following:\n",
    "1. Filter out the suppressed data if we are sure we don't need them later\n",
    "2. Generate clean indicators for data suppression, which leaves the flexibility to apply different filters in later analysis"
   ]
  },
  {
   "cell_type": "code",
   "execution_count": 4,
   "metadata": {
    "collapsed": false
   },
   "outputs": [
    {
     "name": "stdout",
     "output_type": "stream",
     "text": [
      "EMP_F                Non-Null Count         0\n",
      "EMP_F                Min Length             null\n",
      "EMP_F                Max Length             null\n",
      "EMP_F                Approx Distinct Count  0\n"
     ]
    }
   ],
   "source": [
    "# 1. Filter out the suppressed data if we are sure we don't need them later\n",
    "raw_clean = raw.where(col(\"EMP_F\").isNull()).cache()\n",
    "\n",
    "# check output\n",
    "raw_clean.select(\"EMP_F\").smvEdd()"
   ]
  },
  {
   "cell_type": "code",
   "execution_count": 5,
   "metadata": {
    "collapsed": false
   },
   "outputs": [
    {
     "name": "stdout",
     "output_type": "stream",
     "text": [
      "Histogram of EMP_F_IND_PAYANN_F_IND: String sort by Key\n",
      "key                      count      Pct    cumCount   cumPct\n",
      "false_false               7089   18.26%        7089   18.26%\n",
      "false_true                2090    5.38%        9179   23.65%\n",
      "true_true                29639   76.35%       38818  100.00%\n",
      "-------------------------------------------------\n"
     ]
    }
   ],
   "source": [
    "# 2. Generate clean indicators for data suppression\n",
    "raw_clean2 = raw.smvSelectPlus(\n",
    "    col(\"EMP_F\").isNull().cast(StringType()).alias(\"EMP_F_IND\"),\n",
    "    col(\"PAYANN_F\").isNull().cast(StringType()).alias(\"PAYANN_F_IND\")\n",
    ").cache()\n",
    "\n",
    "# check output\n",
    "raw_clean2.smvConcatHist([\"EMP_F_IND\",\"PAYANN_F_IND\"])"
   ]
  },
  {
   "cell_type": "markdown",
   "metadata": {},
   "source": [
    "<a name='bookmark2'/>\n",
    "## Quick Query"
   ]
  },
  {
   "cell_type": "markdown",
   "metadata": {},
   "source": [
    "Quickly query for some data and results to answer straightforward business questions. \n",
    "\n",
    "***Example:*** Suppose we would like to know how many zip codes are recorded for state California. \n",
    "\n",
    "However we are not sure which state number represents California. From viewing the first n rows of the data it seems that the 2-digit code within the bracket of column \"GEO_TTL\" looks like the state code. We can validate and look for California's ST number by the following operation:"
   ]
  },
  {
   "cell_type": "code",
   "execution_count": 6,
   "metadata": {
    "collapsed": false
   },
   "outputs": [
    {
     "name": "stdout",
     "output_type": "stream",
     "text": [
      "+---+\n",
      "| ST|\n",
      "+---+\n",
      "| 06|\n",
      "+---+\n",
      "\n"
     ]
    }
   ],
   "source": [
    "raw_clean.where(instr(\"GEO_TTL\", \",CA\")>0).select(\"ST\").distinct().show()"
   ]
  },
  {
   "cell_type": "code",
   "execution_count": 7,
   "metadata": {
    "collapsed": false
   },
   "outputs": [
    {
     "data": {
      "text/plain": [
       "1884"
      ]
     },
     "execution_count": 7,
     "metadata": {},
     "output_type": "execute_result"
    }
   ],
   "source": [
    "raw_clean.filter(col(\"ST\") == \"06\").count()"
   ]
  },
  {
   "cell_type": "markdown",
   "metadata": {},
   "source": [
    "\n",
    "----\n",
    "***Example:*** Quickly look at average # of paid employees per establishment in CA"
   ]
  },
  {
   "cell_type": "code",
   "execution_count": 8,
   "metadata": {
    "collapsed": false
   },
   "outputs": [
    {
     "name": "stdout",
     "output_type": "stream",
     "text": [
      "EMP_per_ESTAB        Non-Null Count         1884\n",
      "EMP_per_ESTAB        Average                12.521105763266984\n",
      "EMP_per_ESTAB        Standard Deviation     14.609728051190217\n",
      "EMP_per_ESTAB        Min                    0.4\n",
      "EMP_per_ESTAB        Max                    310.9\n"
     ]
    }
   ],
   "source": [
    "raw_clean.filter(col(\"ST\") == \"06\").select((col(\"EMP\")/col(\"ESTAB\")).alias(\"EMP_per_ESTAB\")).smvEdd()"
   ]
  },
  {
   "cell_type": "markdown",
   "metadata": {},
   "source": [
    "Remarks: We can easily get the summary stats for the average # of paid employees of a certain state."
   ]
  },
  {
   "cell_type": "markdown",
   "metadata": {},
   "source": [
    "Following the above examples, to ease the analyses and make the results more readable, we can define a new variable for state code."
   ]
  },
  {
   "cell_type": "code",
   "execution_count": 9,
   "metadata": {
    "collapsed": false,
    "scrolled": true
   },
   "outputs": [
    {
     "name": "stdout",
     "output_type": "stream",
     "text": [
      "Histogram of ST_CD: String sort by Key\n",
      "key                      count      Pct    cumCount   cumPct\n",
      "AK                         153    0.52%         153    0.52%\n",
      "AL                         590    1.99%         743    2.51%\n",
      "AR                         473    1.60%        1216    4.11%\n",
      "AZ                         371    1.25%        1587    5.36%\n",
      "CA                        1883    6.36%        3470   11.72%\n",
      "CO                         472    1.59%        3942   13.32%\n",
      "CT                         297    1.00%        4239   14.32%\n",
      "DC                          69    0.23%        4308   14.55%\n",
      "DE                          65    0.22%        4373   14.77%\n",
      "FL                        1151    3.89%        5524   18.66%\n",
      "GA                         740    2.50%        6264   21.16%\n",
      "HI                         102    0.34%        6366   21.50%\n",
      "IA                         738    2.49%        7104   24.00%\n",
      "ID                         207    0.70%        7311   24.70%\n",
      "IL                        1161    3.92%        8472   28.62%\n",
      "IN                         697    2.35%        9169   30.97%\n",
      "KS                         534    1.80%        9703   32.78%\n",
      "KY                         553    1.87%       10256   34.64%\n",
      "LA                         527    1.78%       10783   36.42%\n",
      "MA                         563    1.90%       11346   38.33%\n",
      "MD                         439    1.48%       11785   39.81%\n",
      "ME                         356    1.20%       12141   41.01%\n",
      "MI                         930    3.14%       13071   44.15%\n",
      "MN                         746    2.52%       13817   46.67%\n",
      "MO                         796    2.69%       14613   49.36%\n",
      "MS                         401    1.35%       15014   50.72%\n",
      "MT                         238    0.80%       15252   51.52%\n",
      "NC                         856    2.89%       16108   54.41%\n",
      "ND                         267    0.90%       16375   55.31%\n",
      "NE                         448    1.51%       16823   56.83%\n",
      "NH                         224    0.76%       17047   57.58%\n",
      "NJ                         638    2.16%       17685   59.74%\n",
      "NM                         234    0.79%       17919   60.53%\n",
      "NV                         169    0.57%       18088   61.10%\n",
      "NY                        1643    5.55%       19731   66.65%\n",
      "OH                        1055    3.56%       20786   70.21%\n",
      "OK                         556    1.88%       21342   72.09%\n",
      "OR                         365    1.23%       21707   73.32%\n",
      "PA                        1525    5.15%       23232   78.48%\n",
      "RI                          77    0.26%       23309   78.74%\n",
      "SC                         423    1.43%       23732   80.16%\n",
      "SD                         254    0.86%       23986   81.02%\n",
      "TN                         606    2.05%       24592   83.07%\n",
      "TX                        1866    6.30%       26458   89.37%\n",
      "UT                         239    0.81%       26697   90.18%\n",
      "VA                         835    2.82%       27532   93.00%\n",
      "VT                         234    0.79%       27766   93.79%\n",
      "WA                         555    1.87%       28321   95.67%\n",
      "WI                         722    2.44%       29043   98.10%\n",
      "WV                         433    1.46%       29476   99.57%\n",
      "WY                         128    0.43%       29604  100.00%\n",
      "-------------------------------------------------\n"
     ]
    }
   ],
   "source": [
    "df1 = raw_clean. \\\n",
    "smvSelectPlus(substring_index(substring_index(col(\"GEO_TTL\"), \",\", -1),\")\", 1).alias(\"ST_CD\")). \\\n",
    "where(length(col(\"ST_CD\"))<3).cache()\n",
    "\n",
    "# check results\n",
    "df1.smvHist(\"ST_CD\")"
   ]
  },
  {
   "cell_type": "markdown",
   "metadata": {},
   "source": [
    "\n",
    "----\n",
    "***Example:*** For each state, how many counties have more than 30,000 paid employees?"
   ]
  },
  {
   "cell_type": "code",
   "execution_count": 10,
   "metadata": {
    "collapsed": false,
    "scrolled": true
   },
   "outputs": [
    {
     "name": "stdout",
     "output_type": "stream",
     "text": [
      "Histogram of ST_CD: String sorted by Frequency\n",
      "key                      count      Pct    cumCount   cumPct\n",
      "CA                          68   16.59%          68   16.59%\n",
      "TX                          45   10.98%         113   27.56%\n",
      "NY                          32    7.80%         145   35.37%\n",
      "IL                          24    5.85%         169   41.22%\n",
      "FL                          19    4.63%         188   45.85%\n",
      "GA                          15    3.66%         203   49.51%\n",
      "NJ                          14    3.41%         217   52.93%\n",
      "OH                          14    3.41%         231   56.34%\n",
      "VA                          14    3.41%         245   59.76%\n",
      "MA                          13    3.17%         258   62.93%\n",
      "PA                          13    3.17%         271   66.10%\n",
      "MI                          12    2.93%         283   69.02%\n",
      "AZ                          11    2.68%         294   71.71%\n",
      "MD                          10    2.44%         304   74.15%\n",
      "IN                           9    2.20%         313   76.34%\n",
      "WA                           9    2.20%         322   78.54%\n",
      "NC                           9    2.20%         331   80.73%\n",
      "MN                           8    1.95%         339   82.68%\n",
      "TN                           6    1.46%         345   84.15%\n",
      "MO                           6    1.46%         351   85.61%\n",
      "NV                           6    1.46%         357   87.07%\n",
      "CO                           6    1.46%         363   88.54%\n",
      "OR                           5    1.22%         368   89.76%\n",
      "DC                           4    0.98%         372   90.73%\n",
      "HI                           4    0.98%         376   91.71%\n",
      "IA                           3    0.73%         379   92.44%\n",
      "KY                           3    0.73%         382   93.17%\n",
      "WI                           3    0.73%         385   93.90%\n",
      "LA                           3    0.73%         388   94.63%\n",
      "UT                           3    0.73%         391   95.37%\n",
      "AL                           3    0.73%         394   96.10%\n",
      "SC                           3    0.73%         397   96.83%\n",
      "NM                           2    0.49%         399   97.32%\n",
      "CT                           2    0.49%         401   97.80%\n",
      "RI                           2    0.49%         403   98.29%\n",
      "ME                           1    0.24%         404   98.54%\n",
      "AK                           1    0.24%         405   98.78%\n",
      "NE                           1    0.24%         406   99.02%\n",
      "AR                           1    0.24%         407   99.27%\n",
      "ND                           1    0.24%         408   99.51%\n",
      "NH                           1    0.24%         409   99.76%\n",
      "DE                           1    0.24%         410  100.00%\n",
      "-------------------------------------------------\n"
     ]
    }
   ],
   "source": [
    "df1.filter(col(\"EMP\") > 30000).smvFreqHist(\"ST_CD\")"
   ]
  },
  {
   "cell_type": "markdown",
   "metadata": {},
   "source": [
    "\n",
    "----\n",
    "***Example:*** Find out the top 10 states with the highest average payroll per paid employee  \n",
    "\n",
    "This kind of questions can be answered by grouping data to the desired level (state level in this case) and apply relevant aggregation functions (average, sum, count, max, min, etc.)"
   ]
  },
  {
   "cell_type": "code",
   "execution_count": 11,
   "metadata": {
    "collapsed": false
   },
   "outputs": [
    {
     "data": {
      "text/html": [
       "<div>\n",
       "<table border=\"1\" class=\"dataframe\">\n",
       "  <thead>\n",
       "    <tr style=\"text-align: right;\">\n",
       "      <th></th>\n",
       "      <th>ST_CD</th>\n",
       "      <th>avg_PAYANN_per_EMP</th>\n",
       "    </tr>\n",
       "  </thead>\n",
       "  <tbody>\n",
       "    <tr>\n",
       "      <th>0</th>\n",
       "      <td>DC</td>\n",
       "      <td>60.449275</td>\n",
       "    </tr>\n",
       "    <tr>\n",
       "      <th>1</th>\n",
       "      <td>CT</td>\n",
       "      <td>46.757576</td>\n",
       "    </tr>\n",
       "    <tr>\n",
       "      <th>2</th>\n",
       "      <td>NJ</td>\n",
       "      <td>45.247649</td>\n",
       "    </tr>\n",
       "    <tr>\n",
       "      <th>3</th>\n",
       "      <td>MA</td>\n",
       "      <td>43.566607</td>\n",
       "    </tr>\n",
       "    <tr>\n",
       "      <th>4</th>\n",
       "      <td>AK</td>\n",
       "      <td>42.084967</td>\n",
       "    </tr>\n",
       "    <tr>\n",
       "      <th>5</th>\n",
       "      <td>CA</td>\n",
       "      <td>41.005311</td>\n",
       "    </tr>\n",
       "    <tr>\n",
       "      <th>6</th>\n",
       "      <td>WY</td>\n",
       "      <td>40.406250</td>\n",
       "    </tr>\n",
       "    <tr>\n",
       "      <th>7</th>\n",
       "      <td>NY</td>\n",
       "      <td>39.767498</td>\n",
       "    </tr>\n",
       "    <tr>\n",
       "      <th>8</th>\n",
       "      <td>CO</td>\n",
       "      <td>38.406780</td>\n",
       "    </tr>\n",
       "    <tr>\n",
       "      <th>9</th>\n",
       "      <td>ND</td>\n",
       "      <td>38.149813</td>\n",
       "    </tr>\n",
       "  </tbody>\n",
       "</table>\n",
       "</div>"
      ],
      "text/plain": [
       "  ST_CD  avg_PAYANN_per_EMP\n",
       "0    DC           60.449275\n",
       "1    CT           46.757576\n",
       "2    NJ           45.247649\n",
       "3    MA           43.566607\n",
       "4    AK           42.084967\n",
       "5    CA           41.005311\n",
       "6    WY           40.406250\n",
       "7    NY           39.767498\n",
       "8    CO           38.406780\n",
       "9    ND           38.149813"
      ]
     },
     "execution_count": 11,
     "metadata": {},
     "output_type": "execute_result"
    }
   ],
   "source": [
    "df1.groupBy(\"ST_CD\").\\\n",
    "agg(avg(col(\"PAYANN\")/col(\"EMP\")).alias(\"avg_PAYANN_per_EMP\")).\\\n",
    "orderBy(desc(\"avg_PAYANN_per_EMP\")).smvPdHead(10)"
   ]
  },
  {
   "cell_type": "markdown",
   "metadata": {},
   "source": [
    "\n",
    "----\n",
    "***Example:*** For each state, find the top 5 zipcodes with the highest payroll per employee\n",
    "\n",
    "Smv also supports relatively complicated operations on grouped data in a convenient way. To query the above data in interest, what we will do are:    \n",
    "1. calculate average payroll per employment for each county;\n",
    "2. use `smvGroupBy` to create a GroupedData by state;\n",
    "3. use `smvTopNRecs` to filter top 5 counties with highest payroll per employee"
   ]
  },
  {
   "cell_type": "code",
   "execution_count": 12,
   "metadata": {
    "collapsed": false
   },
   "outputs": [
    {
     "data": {
      "text/html": [
       "<div>\n",
       "<table border=\"1\" class=\"dataframe\">\n",
       "  <thead>\n",
       "    <tr style=\"text-align: right;\">\n",
       "      <th></th>\n",
       "      <th>ST_CD</th>\n",
       "      <th>ZIPCODE</th>\n",
       "      <th>GEO_TTL</th>\n",
       "      <th>PAYANN_per_EMP</th>\n",
       "    </tr>\n",
       "  </thead>\n",
       "  <tbody>\n",
       "    <tr>\n",
       "      <th>0</th>\n",
       "      <td>MS</td>\n",
       "      <td>39558</td>\n",
       "      <td>39558(LAKESHORE,MS)</td>\n",
       "      <td>120.500000</td>\n",
       "    </tr>\n",
       "    <tr>\n",
       "      <th>1</th>\n",
       "      <td>MS</td>\n",
       "      <td>38723</td>\n",
       "      <td>38723(AVON,MS)</td>\n",
       "      <td>79.085714</td>\n",
       "    </tr>\n",
       "    <tr>\n",
       "      <th>2</th>\n",
       "      <td>MS</td>\n",
       "      <td>39522</td>\n",
       "      <td>39522(STENNIS SPACE CENTER,MS)</td>\n",
       "      <td>76.528090</td>\n",
       "    </tr>\n",
       "    <tr>\n",
       "      <th>3</th>\n",
       "      <td>MS</td>\n",
       "      <td>39146</td>\n",
       "      <td>39146(PICKENS,MS)</td>\n",
       "      <td>75.519824</td>\n",
       "    </tr>\n",
       "    <tr>\n",
       "      <th>4</th>\n",
       "      <td>MS</td>\n",
       "      <td>39173</td>\n",
       "      <td>39173(TINSLEY,MS)</td>\n",
       "      <td>69.588235</td>\n",
       "    </tr>\n",
       "    <tr>\n",
       "      <th>5</th>\n",
       "      <td>MT</td>\n",
       "      <td>59053</td>\n",
       "      <td>59053(MARTINSDALE,MT)</td>\n",
       "      <td>108.000000</td>\n",
       "    </tr>\n",
       "    <tr>\n",
       "      <th>6</th>\n",
       "      <td>MT</td>\n",
       "      <td>59256</td>\n",
       "      <td>59256(RAYMOND,MT)</td>\n",
       "      <td>81.500000</td>\n",
       "    </tr>\n",
       "    <tr>\n",
       "      <th>7</th>\n",
       "      <td>MT</td>\n",
       "      <td>59103</td>\n",
       "      <td>59103(BILLINGS,MT)</td>\n",
       "      <td>74.634825</td>\n",
       "    </tr>\n",
       "    <tr>\n",
       "      <th>8</th>\n",
       "      <td>MT</td>\n",
       "      <td>59936</td>\n",
       "      <td>59936(WEST GLACIER,MT)</td>\n",
       "      <td>72.730769</td>\n",
       "    </tr>\n",
       "    <tr>\n",
       "      <th>9</th>\n",
       "      <td>MT</td>\n",
       "      <td>59323</td>\n",
       "      <td>59323(COLSTRIP,MT)</td>\n",
       "      <td>69.915695</td>\n",
       "    </tr>\n",
       "  </tbody>\n",
       "</table>\n",
       "</div>"
      ],
      "text/plain": [
       "  ST_CD ZIPCODE                         GEO_TTL  PAYANN_per_EMP\n",
       "0    MS   39558             39558(LAKESHORE,MS)      120.500000\n",
       "1    MS   38723                  38723(AVON,MS)       79.085714\n",
       "2    MS   39522  39522(STENNIS SPACE CENTER,MS)       76.528090\n",
       "3    MS   39146               39146(PICKENS,MS)       75.519824\n",
       "4    MS   39173               39173(TINSLEY,MS)       69.588235\n",
       "5    MT   59053           59053(MARTINSDALE,MT)      108.000000\n",
       "6    MT   59256               59256(RAYMOND,MT)       81.500000\n",
       "7    MT   59103              59103(BILLINGS,MT)       74.634825\n",
       "8    MT   59936          59936(WEST GLACIER,MT)       72.730769\n",
       "9    MT   59323              59323(COLSTRIP,MT)       69.915695"
      ]
     },
     "execution_count": 12,
     "metadata": {},
     "output_type": "execute_result"
    }
   ],
   "source": [
    "df1.select(\n",
    "    \"ST_CD\",\n",
    "    \"ZIPCODE\",\n",
    "    \"GEO_TTL\",\n",
    "    (col(\"PAYANN\")/col(\"EMP\")).alias(\"PAYANN_per_EMP\"),\n",
    "  ).\\\n",
    "  smvGroupBy(\"ST_CD\").smvTopNRecs(5, col(\"PAYANN_per_EMP\").desc()).smvPdHead(10)"
   ]
  },
  {
   "cell_type": "markdown",
   "metadata": {},
   "source": [
    "The output from this quick query is that for each state there are 5 rows representing top 5 counties with highest payroll per employee and the corresponding value of payroll per employee."
   ]
  },
  {
   "cell_type": "markdown",
   "metadata": {},
   "source": [
    "<a name='bookmark3'/>\n",
    "## Ad-hoc Profiling"
   ]
  },
  {
   "cell_type": "markdown",
   "metadata": {},
   "source": [
    "Often some business questions are not easily answered by a simple line of queries, and when we would like to understand the \"profile\" of something, we can do ad-hoc profiling, which essentially consists of a series of relatively complicated analyses."
   ]
  },
  {
   "cell_type": "markdown",
   "metadata": {},
   "source": [
    "***Example:*** Suppose we want to know for each state, what is the percentage of counties' whose payroll per employee is both above state average and country average?"
   ]
  },
  {
   "cell_type": "markdown",
   "metadata": {},
   "source": [
    "#### Method 1\n",
    "Before calculating the percentage of counties that satisfy the criteria, normally you have to go through 2-3 steps to append the overall and group averages to each observation:   \n",
    "1. calculate the country-wide average;\n",
    "2. group by state and calculate the average per state;  \n",
    "3. merge the averages to the original data and calculate the differences"
   ]
  },
  {
   "cell_type": "code",
   "execution_count": 13,
   "metadata": {
    "collapsed": false
   },
   "outputs": [
    {
     "data": {
      "text/plain": [
       "35.80894619816936"
      ]
     },
     "execution_count": 13,
     "metadata": {},
     "output_type": "execute_result"
    }
   ],
   "source": [
    "# 1.get overall average\n",
    "df1_ctry_avg = df1.select(col(\"PAYANN\")/col(\"EMP\")).groupBy().avg().collect()[0][0]\n",
    "df1_ctry_avg"
   ]
  },
  {
   "cell_type": "code",
   "execution_count": 14,
   "metadata": {
    "collapsed": true
   },
   "outputs": [],
   "source": [
    "# 2.get state average\n",
    "df1_state_avg = df1.smvSelectPlus((col(\"PAYANN\")/col(\"EMP\")).alias(\"PAYANN_per_EMP\")).\\\n",
    "                groupBy(\"ST_CD\").agg(avg(col(\"PAYANN_per_EMP\")).alias(\"avg_state_PAYANN_per_EMP\")).cache()"
   ]
  },
  {
   "cell_type": "code",
   "execution_count": 15,
   "metadata": {
    "collapsed": true
   },
   "outputs": [],
   "source": [
    "# 3.append average to each input row    \n",
    "df1_join = df1.smvJoinByKey(df1_state_avg, [\"ST_CD\"], \"inner\").\\\n",
    "           smvSelectPlus((col(\"PAYANN\")/col(\"EMP\")).alias(\"PAYANN_per_EMP\")).cache()"
   ]
  },
  {
   "cell_type": "code",
   "execution_count": 16,
   "metadata": {
    "collapsed": true
   },
   "outputs": [],
   "source": [
    "# 4.calculate the difference\n",
    "df2 = df1_join.select(\n",
    "    \"ST_CD\",\n",
    "    \"ZIPCODE\",\n",
    "    \"PAYANN_per_EMP\",\n",
    "    (col(\"PAYANN_per_EMP\") - df1_ctry_avg).alias(\"diff_avg_ctry_PAYANN_per_EMP\"),\n",
    "    (col(\"PAYANN_per_EMP\") - col(\"avg_state_PAYANN_per_EMP\")).alias(\"diff_avg_state_PAYANN_per_EMP\")\n",
    ")"
   ]
  },
  {
   "cell_type": "code",
   "execution_count": 17,
   "metadata": {
    "collapsed": false
   },
   "outputs": [
    {
     "data": {
      "text/html": [
       "<div>\n",
       "<table border=\"1\" class=\"dataframe\">\n",
       "  <thead>\n",
       "    <tr style=\"text-align: right;\">\n",
       "      <th></th>\n",
       "      <th>ST_CD</th>\n",
       "      <th>ZIPCODE</th>\n",
       "      <th>PAYANN_per_EMP</th>\n",
       "      <th>diff_avg_ctry_PAYANN_per_EMP</th>\n",
       "      <th>diff_avg_state_PAYANN_per_EMP</th>\n",
       "    </tr>\n",
       "  </thead>\n",
       "  <tbody>\n",
       "    <tr>\n",
       "      <th>0</th>\n",
       "      <td>MS</td>\n",
       "      <td>38601</td>\n",
       "      <td>28.836364</td>\n",
       "      <td>-6.972583</td>\n",
       "      <td>-1.833267</td>\n",
       "    </tr>\n",
       "    <tr>\n",
       "      <th>1</th>\n",
       "      <td>MS</td>\n",
       "      <td>38603</td>\n",
       "      <td>30.991031</td>\n",
       "      <td>-4.817915</td>\n",
       "      <td>0.321400</td>\n",
       "    </tr>\n",
       "    <tr>\n",
       "      <th>2</th>\n",
       "      <td>MS</td>\n",
       "      <td>38606</td>\n",
       "      <td>31.249766</td>\n",
       "      <td>-4.559181</td>\n",
       "      <td>0.580135</td>\n",
       "    </tr>\n",
       "    <tr>\n",
       "      <th>3</th>\n",
       "      <td>MS</td>\n",
       "      <td>38610</td>\n",
       "      <td>25.640777</td>\n",
       "      <td>-10.168169</td>\n",
       "      <td>-5.028854</td>\n",
       "    </tr>\n",
       "    <tr>\n",
       "      <th>4</th>\n",
       "      <td>MS</td>\n",
       "      <td>38611</td>\n",
       "      <td>33.876659</td>\n",
       "      <td>-1.932287</td>\n",
       "      <td>3.207028</td>\n",
       "    </tr>\n",
       "  </tbody>\n",
       "</table>\n",
       "</div>"
      ],
      "text/plain": [
       "  ST_CD ZIPCODE  PAYANN_per_EMP  diff_avg_ctry_PAYANN_per_EMP  \\\n",
       "0    MS   38601       28.836364                     -6.972583   \n",
       "1    MS   38603       30.991031                     -4.817915   \n",
       "2    MS   38606       31.249766                     -4.559181   \n",
       "3    MS   38610       25.640777                    -10.168169   \n",
       "4    MS   38611       33.876659                     -1.932287   \n",
       "\n",
       "   diff_avg_state_PAYANN_per_EMP  \n",
       "0                      -1.833267  \n",
       "1                       0.321400  \n",
       "2                       0.580135  \n",
       "3                      -5.028854  \n",
       "4                       3.207028  "
      ]
     },
     "execution_count": 17,
     "metadata": {},
     "output_type": "execute_result"
    }
   ],
   "source": [
    "# check results\n",
    "df2.smvPdHead(5)"
   ]
  },
  {
   "cell_type": "markdown",
   "metadata": {},
   "source": [
    "#### Method 2\n",
    "\n",
    "An easier way is to use Spark's **window functions**, which enables to calculate a value for each input row based on a group of rows. A definition of such a group of rows is a window specification, in this case we can define 2 window specifications: one for all rows in data and one for grouping by state."
   ]
  },
  {
   "cell_type": "code",
   "execution_count": 18,
   "metadata": {
    "collapsed": false
   },
   "outputs": [],
   "source": [
    "# 1.define two window specifications to for overall and by-state operations\n",
    "\n",
    "# no grouping and use all rows of data\n",
    "ctry_window = Window.partitionBy()  \n",
    "\n",
    "# group by \"ST_CD\" and use all rows in one group (state)\n",
    "state_window = Window.partitionBy(\"ST_CD\") "
   ]
  },
  {
   "cell_type": "code",
   "execution_count": 19,
   "metadata": {
    "collapsed": true
   },
   "outputs": [],
   "source": [
    "# 2.get overall, group averages and calculate differences in one step\n",
    "df3 = df1.smvSelectPlus((col(\"PAYANN\")/col(\"EMP\")).alias(\"PAYANN_per_EMP\")).select(\n",
    "    \"ST\",\n",
    "    \"ST_CD\",\n",
    "    \"ZIPCODE\",\n",
    "    \"PAYANN_per_EMP\",\n",
    "    (col(\"PAYANN_per_EMP\") - avg(col(\"PAYANN_per_EMP\")).over(ctry_window)).alias(\"diff_avg_ctry_PAYANN_per_EMP\"),\n",
    "    (col(\"PAYANN_per_EMP\") - avg(col(\"PAYANN_per_EMP\")).over(state_window)).alias(\"diff_avg_state_PAYANN_per_EMP\")\n",
    ")"
   ]
  },
  {
   "cell_type": "code",
   "execution_count": 20,
   "metadata": {
    "collapsed": false
   },
   "outputs": [
    {
     "data": {
      "text/html": [
       "<div>\n",
       "<table border=\"1\" class=\"dataframe\">\n",
       "  <thead>\n",
       "    <tr style=\"text-align: right;\">\n",
       "      <th></th>\n",
       "      <th>ST</th>\n",
       "      <th>ST_CD</th>\n",
       "      <th>ZIPCODE</th>\n",
       "      <th>PAYANN_per_EMP</th>\n",
       "      <th>diff_avg_ctry_PAYANN_per_EMP</th>\n",
       "      <th>diff_avg_state_PAYANN_per_EMP</th>\n",
       "    </tr>\n",
       "  </thead>\n",
       "  <tbody>\n",
       "    <tr>\n",
       "      <th>0</th>\n",
       "      <td>28</td>\n",
       "      <td>MS</td>\n",
       "      <td>38601</td>\n",
       "      <td>28.836364</td>\n",
       "      <td>-6.972583</td>\n",
       "      <td>-1.833267</td>\n",
       "    </tr>\n",
       "    <tr>\n",
       "      <th>1</th>\n",
       "      <td>28</td>\n",
       "      <td>MS</td>\n",
       "      <td>38603</td>\n",
       "      <td>30.991031</td>\n",
       "      <td>-4.817915</td>\n",
       "      <td>0.321400</td>\n",
       "    </tr>\n",
       "    <tr>\n",
       "      <th>2</th>\n",
       "      <td>28</td>\n",
       "      <td>MS</td>\n",
       "      <td>38606</td>\n",
       "      <td>31.249766</td>\n",
       "      <td>-4.559181</td>\n",
       "      <td>0.580135</td>\n",
       "    </tr>\n",
       "    <tr>\n",
       "      <th>3</th>\n",
       "      <td>28</td>\n",
       "      <td>MS</td>\n",
       "      <td>38610</td>\n",
       "      <td>25.640777</td>\n",
       "      <td>-10.168169</td>\n",
       "      <td>-5.028854</td>\n",
       "    </tr>\n",
       "    <tr>\n",
       "      <th>4</th>\n",
       "      <td>28</td>\n",
       "      <td>MS</td>\n",
       "      <td>38611</td>\n",
       "      <td>33.876659</td>\n",
       "      <td>-1.932287</td>\n",
       "      <td>3.207028</td>\n",
       "    </tr>\n",
       "  </tbody>\n",
       "</table>\n",
       "</div>"
      ],
      "text/plain": [
       "   ST ST_CD ZIPCODE  PAYANN_per_EMP  diff_avg_ctry_PAYANN_per_EMP  \\\n",
       "0  28    MS   38601       28.836364                     -6.972583   \n",
       "1  28    MS   38603       30.991031                     -4.817915   \n",
       "2  28    MS   38606       31.249766                     -4.559181   \n",
       "3  28    MS   38610       25.640777                    -10.168169   \n",
       "4  28    MS   38611       33.876659                     -1.932287   \n",
       "\n",
       "   diff_avg_state_PAYANN_per_EMP  \n",
       "0                      -1.833267  \n",
       "1                       0.321400  \n",
       "2                       0.580135  \n",
       "3                      -5.028854  \n",
       "4                       3.207028  "
      ]
     },
     "execution_count": 20,
     "metadata": {},
     "output_type": "execute_result"
    }
   ],
   "source": [
    "# check results\n",
    "df3.filter(col(\"ST_CD\")==\"MS\").smvPdHead(5)"
   ]
  },
  {
   "cell_type": "markdown",
   "metadata": {
    "collapsed": true
   },
   "source": [
    "With the window specification, the average functions return the values on every input row, which can be used together with other raw columns on the row. Besides, given the flexibility of window functions, it is possible to calculate values on different grouping methods of rows in one step. "
   ]
  },
  {
   "cell_type": "code",
   "execution_count": 21,
   "metadata": {
    "collapsed": false
   },
   "outputs": [
    {
     "name": "stdout",
     "output_type": "stream",
     "text": [
      "+-----+------------+------------------------------+------------------------------+\n",
      "|ST_CD|cnt_counties|cnt_counties_avg_ge_state_ctry|pct_counties_avg_ge_state_ctry|\n",
      "+-----+------------+------------------------------+------------------------------+\n",
      "|   RI|          77|                            38|             49.35064935064935|\n",
      "|   DC|          69|                            33|             47.82608695652174|\n",
      "|   AK|         153|                            68|             44.44444444444444|\n",
      "|   NH|         224|                            98|                         43.75|\n",
      "|   WY|         128|                            54|                       42.1875|\n",
      "+-----+------------+------------------------------+------------------------------+\n",
      "only showing top 5 rows\n",
      "\n"
     ]
    }
   ],
   "source": [
    "# Find the counties with payroll per employee greater than state as well as country average\n",
    "df4 = df3.groupBy(\"ST_CD\").agg(\n",
    "    count(\"ST_CD\").alias(\"cnt_counties\"),\n",
    "    sum(when((col(\"diff_avg_ctry_PAYANN_per_EMP\")>0)&(col(\"diff_avg_state_PAYANN_per_EMP\")>0),1).otherwise(0))\n",
    "       .alias(\"cnt_counties_avg_ge_state_ctry\")\n",
    ").smvSelectPlus(\n",
    "    (col(\"cnt_counties_avg_ge_state_ctry\")/col(\"cnt_counties\")*100).alias(\"pct_counties_avg_ge_state_ctry\")\n",
    ").cache()\n",
    "\n",
    "df4.orderBy(desc(\"pct_counties_avg_ge_state_ctry\")).show(5)"
   ]
  },
  {
   "cell_type": "code",
   "execution_count": null,
   "metadata": {
    "collapsed": true
   },
   "outputs": [],
   "source": []
  }
 ],
 "metadata": {
  "kernelspec": {
   "display_name": "Python 2",
   "language": "python",
   "name": "python2"
  },
  "language_info": {
   "codemirror_mode": {
    "name": "ipython",
    "version": 2
   },
   "file_extension": ".py",
   "mimetype": "text/x-python",
   "name": "python",
   "nbconvert_exporter": "python",
   "pygments_lexer": "ipython2",
   "version": "2.7.10"
  }
 },
 "nbformat": 4,
 "nbformat_minor": 1
}
