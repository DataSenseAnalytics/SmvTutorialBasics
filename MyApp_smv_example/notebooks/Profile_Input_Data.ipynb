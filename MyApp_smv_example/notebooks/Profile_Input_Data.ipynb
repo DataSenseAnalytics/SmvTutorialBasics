{
 "cells": [
  {
   "cell_type": "markdown",
   "metadata": {
    "collapsed": true
   },
   "source": [
    "# Profile Input Data\n",
    "\n",
    "Real data are not always clean and structured, thus before any analysis of the data, it is important to firstly develop a thorough understanding of the input data. It is very convenient to have a quick look at the data before more structured analyses or do ad-hoc profiling of the data with SMV. \n",
    "\n",
    "* <a href=#bookmark1>The Basics</a>\n",
    "* <a href=#bookmark2>Extended Data Dictionary</a>\n",
    "* <a href=#bookmark3>Detailed Distribution Check</a>\n",
    "* <a href=#bookmark4>Primary Key</a>"
   ]
  },
  {
   "cell_type": "markdown",
   "metadata": {},
   "source": [
    "**Important Note**  \n",
    "Please make sure `smv-jupyter` is run at the **root directory of the project** (for example MyApp) before continuing on the tutorial below."
   ]
  },
  {
   "cell_type": "code",
   "execution_count": 1,
   "metadata": {
    "collapsed": true
   },
   "outputs": [],
   "source": [
    "# Import necessary packages\n",
    "import smv\n",
    "import pandas as pd\n",
    "from pyspark.sql import HiveContext, DataFrame\n",
    "\n",
    "%matplotlib inline\n",
    "import matplotlib\n",
    "import matplotlib.pyplot as plt"
   ]
  },
  {
   "cell_type": "code",
   "execution_count": 2,
   "metadata": {
    "collapsed": true
   },
   "outputs": [],
   "source": [
    "# Read the input data from a csv file\n",
    "raw = openCsv(\"data/input/employment/CB1200CZ11.csv\")"
   ]
  },
  {
   "cell_type": "markdown",
   "metadata": {},
   "source": [
    "Please note that for users that are running in the environment with hdfs, spark will read data from hdfs by default. In order to read local data, users need to specify `\"file://\"` before the full path of the data.   \n",
    "For example `raw = openCsv(\"file:///home/username/MyApp/data/input/employment/CB1200CZ11.csv\")`"
   ]
  },
  {
   "cell_type": "markdown",
   "metadata": {},
   "source": [
    "----\n",
    "<a name='bookmark1'/>\n",
    "### The Basics "
   ]
  },
  {
   "cell_type": "markdown",
   "metadata": {},
   "source": [
    "When there is a piece of input data, the immediate question could be one of the following:\n",
    "1. What kind of fields do we have?\n",
    "2. What are each column's values?\n",
    "3. how many records do we have?\n",
    "\n",
    "Smv offers easy functionalities to quickly view the names and types of an input data, as well as to run basic statistics of the data."
   ]
  },
  {
   "cell_type": "code",
   "execution_count": 3,
   "metadata": {
    "collapsed": false
   },
   "outputs": [
    {
     "name": "stdout",
     "output_type": "stream",
     "text": [
      "root\n",
      " |-- ST: string (nullable = true)\n",
      " |-- ZIPCODE: string (nullable = true)\n",
      " |-- GEO_ID: string (nullable = true)\n",
      " |-- GEO_TTL: string (nullable = true)\n",
      " |-- FOOTID_GEO: string (nullable = true)\n",
      " |-- NAICS2012: integer (nullable = true)\n",
      " |-- NAICS2012_TTL: string (nullable = true)\n",
      " |-- FOOTID_NAICS: string (nullable = true)\n",
      " |-- YEAR: string (nullable = true)\n",
      " |-- ESTAB: integer (nullable = true)\n",
      " |-- ESTAB_F: string (nullable = true)\n",
      " |-- EMP: integer (nullable = true)\n",
      " |-- EMP_F: string (nullable = true)\n",
      " |-- EMP_N: integer (nullable = true)\n",
      " |-- EMP_N_F: string (nullable = true)\n",
      " |-- PAYQTR1: integer (nullable = true)\n",
      " |-- PAYQTR1_F: string (nullable = true)\n",
      " |-- PAYQTR1_N: integer (nullable = true)\n",
      " |-- PAYQTR1_N_F: string (nullable = true)\n",
      " |-- PAYANN: integer (nullable = true)\n",
      " |-- PAYANN_F: string (nullable = true)\n",
      " |-- PAYANN_N: integer (nullable = true)\n",
      " |-- PAYANN_N_F: string (nullable = true)\n",
      "\n"
     ]
    }
   ],
   "source": [
    "# view the name and data type of each field\n",
    "raw.printSchema()"
   ]
  },
  {
   "cell_type": "code",
   "execution_count": 4,
   "metadata": {
    "collapsed": false
   },
   "outputs": [
    {
     "name": "stdout",
     "output_type": "stream",
     "text": [
      "ST:String            = 01\n",
      "ZIPCODE:String       = 35004\n",
      "GEO_ID:String        = 8610000US35004\n",
      "GEO_TTL:String       = 35004(MOODY,AL)\n",
      "FOOTID_GEO:String    = null\n",
      "NAICS2012:Integer    = 0\n",
      "NAICS2012_TTL:String = Total for all sectors\n",
      "FOOTID_NAICS:String  = null\n",
      "YEAR:String          = 2012\n",
      "ESTAB:Integer        = 167\n",
      "ESTAB_F:String       = null\n",
      "EMP:Integer          = 2574\n",
      "EMP_F:String         = null\n",
      "EMP_N:Integer        = 0\n",
      "EMP_N_F:String       = H\n",
      "PAYQTR1:Integer      = 19448\n",
      "PAYQTR1_F:String     = null\n",
      "PAYQTR1_N:Integer    = 0\n",
      "PAYQTR1_N_F:String   = H\n",
      "PAYANN:Integer       = 83803\n",
      "PAYANN_F:String      = null\n",
      "PAYANN_N:Integer     = 0\n",
      "PAYANN_N_F:String    = H\n"
     ]
    }
   ],
   "source": [
    "# view the schema and the first row\n",
    "raw.peek()"
   ]
  },
  {
   "cell_type": "code",
   "execution_count": 5,
   "metadata": {
    "collapsed": false
   },
   "outputs": [
    {
     "name": "stdout",
     "output_type": "stream",
     "text": [
      "+---+-------+--------------+--------------------+----------+---------+--------------------+------------+----+-----+-------+-----+-----+-----+-------+-------+---------+---------+-----------+------+--------+--------+----------+\n",
      "| ST|ZIPCODE|        GEO_ID|             GEO_TTL|FOOTID_GEO|NAICS2012|       NAICS2012_TTL|FOOTID_NAICS|YEAR|ESTAB|ESTAB_F|  EMP|EMP_F|EMP_N|EMP_N_F|PAYQTR1|PAYQTR1_F|PAYQTR1_N|PAYQTR1_N_F|PAYANN|PAYANN_F|PAYANN_N|PAYANN_N_F|\n",
      "+---+-------+--------------+--------------------+----------+---------+--------------------+------------+----+-----+-------+-----+-----+-----+-------+-------+---------+---------+-----------+------+--------+--------+----------+\n",
      "| 01|  35004|8610000US35004|     35004(MOODY,AL)|      null|        0|Total for all sec...|        null|2012|  167|   null| 2574| null|    0|      H|  19448|     null|        0|          H| 83803|    null|       0|         H|\n",
      "| 01|  35005|8610000US35005|35005(ADAMSVILLE,AL)|      null|        0|Total for all sec...|        null|2012|   88|   null|  665| null|    0|      G|   3948|     null|        0|          G| 16299|    null|       0|         G|\n",
      "| 01|  35006|8610000US35006|     35006(ADGER,AL)|      null|        0|Total for all sec...|        null|2012|   20|   null|    0|    g|    0|      D|      0|        D|        0|          D|     0|       D|       0|         D|\n",
      "| 01|  35007|8610000US35007| 35007(ALABASTER,AL)|      null|        0|Total for all sec...|        null|2012|  596|   null|10347| null|    0|      H|  82101|     null|        0|          H|343200|    null|       0|         H|\n",
      "| 01|  35010|8610000US35010|35010(ALEXANDER C...|      null|        0|Total for all sec...|        null|2012|  463|   null| 6725| null|    0|      G|  46164|     null|        0|          G|196231|    null|       0|         G|\n",
      "+---+-------+--------------+--------------------+----------+---------+--------------------+------------+----+-----+-------+-----+-----+-----+-------+-------+---------+---------+-----------+------+--------+--------+----------+\n",
      "only showing top 5 rows\n",
      "\n"
     ]
    }
   ],
   "source": [
    "# look at the first n rows of the data with show() function\n",
    "raw.show(5)"
   ]
  },
  {
   "cell_type": "code",
   "execution_count": 6,
   "metadata": {
    "collapsed": false
   },
   "outputs": [],
   "source": [
    "# Use self-defined function to view the first n rows of the data shown as a structued table\n",
    "DataFrame.smvPdHead = lambda df, n: df.toPandas().head(n)"
   ]
  },
  {
   "cell_type": "markdown",
   "metadata": {},
   "source": [
    "`pandas.DataFrame.head(n)` will return the first n rows of a dataset in a structured table. The default maximal number of columns to display is 20, and maximal number of rows to display is 60. Users can set the display options as below to change of the # of columns or rows to display. There are also other display options like output precision for users to customize, for more details please refer to [this doc](http://pandas.pydata.org/pandas-docs/stable/generated/pandas.set_option.html)"
   ]
  },
  {
   "cell_type": "code",
   "execution_count": 7,
   "metadata": {
    "collapsed": true
   },
   "outputs": [],
   "source": [
    "pd.set_option(\"display.max_columns\", 30) # as we have more than 20 columns and we would like to view them all\n",
    "pd.set_option(\"display.max_rows\", 30)"
   ]
  },
  {
   "cell_type": "code",
   "execution_count": 8,
   "metadata": {
    "collapsed": false
   },
   "outputs": [
    {
     "data": {
      "text/html": [
       "<div>\n",
       "<table border=\"1\" class=\"dataframe\">\n",
       "  <thead>\n",
       "    <tr style=\"text-align: right;\">\n",
       "      <th></th>\n",
       "      <th>ST</th>\n",
       "      <th>ZIPCODE</th>\n",
       "      <th>GEO_ID</th>\n",
       "      <th>GEO_TTL</th>\n",
       "      <th>FOOTID_GEO</th>\n",
       "      <th>NAICS2012</th>\n",
       "      <th>NAICS2012_TTL</th>\n",
       "      <th>FOOTID_NAICS</th>\n",
       "      <th>YEAR</th>\n",
       "      <th>ESTAB</th>\n",
       "      <th>ESTAB_F</th>\n",
       "      <th>EMP</th>\n",
       "      <th>EMP_F</th>\n",
       "      <th>EMP_N</th>\n",
       "      <th>EMP_N_F</th>\n",
       "      <th>PAYQTR1</th>\n",
       "      <th>PAYQTR1_F</th>\n",
       "      <th>PAYQTR1_N</th>\n",
       "      <th>PAYQTR1_N_F</th>\n",
       "      <th>PAYANN</th>\n",
       "      <th>PAYANN_F</th>\n",
       "      <th>PAYANN_N</th>\n",
       "      <th>PAYANN_N_F</th>\n",
       "    </tr>\n",
       "  </thead>\n",
       "  <tbody>\n",
       "    <tr>\n",
       "      <th>0</th>\n",
       "      <td>01</td>\n",
       "      <td>35004</td>\n",
       "      <td>8610000US35004</td>\n",
       "      <td>35004(MOODY,AL)</td>\n",
       "      <td>None</td>\n",
       "      <td>0</td>\n",
       "      <td>Total for all sectors</td>\n",
       "      <td>None</td>\n",
       "      <td>2012</td>\n",
       "      <td>167</td>\n",
       "      <td>None</td>\n",
       "      <td>2574</td>\n",
       "      <td>None</td>\n",
       "      <td>0</td>\n",
       "      <td>H</td>\n",
       "      <td>19448</td>\n",
       "      <td>None</td>\n",
       "      <td>0</td>\n",
       "      <td>H</td>\n",
       "      <td>83803</td>\n",
       "      <td>None</td>\n",
       "      <td>0</td>\n",
       "      <td>H</td>\n",
       "    </tr>\n",
       "    <tr>\n",
       "      <th>1</th>\n",
       "      <td>01</td>\n",
       "      <td>35005</td>\n",
       "      <td>8610000US35005</td>\n",
       "      <td>35005(ADAMSVILLE,AL)</td>\n",
       "      <td>None</td>\n",
       "      <td>0</td>\n",
       "      <td>Total for all sectors</td>\n",
       "      <td>None</td>\n",
       "      <td>2012</td>\n",
       "      <td>88</td>\n",
       "      <td>None</td>\n",
       "      <td>665</td>\n",
       "      <td>None</td>\n",
       "      <td>0</td>\n",
       "      <td>G</td>\n",
       "      <td>3948</td>\n",
       "      <td>None</td>\n",
       "      <td>0</td>\n",
       "      <td>G</td>\n",
       "      <td>16299</td>\n",
       "      <td>None</td>\n",
       "      <td>0</td>\n",
       "      <td>G</td>\n",
       "    </tr>\n",
       "    <tr>\n",
       "      <th>2</th>\n",
       "      <td>01</td>\n",
       "      <td>35006</td>\n",
       "      <td>8610000US35006</td>\n",
       "      <td>35006(ADGER,AL)</td>\n",
       "      <td>None</td>\n",
       "      <td>0</td>\n",
       "      <td>Total for all sectors</td>\n",
       "      <td>None</td>\n",
       "      <td>2012</td>\n",
       "      <td>20</td>\n",
       "      <td>None</td>\n",
       "      <td>0</td>\n",
       "      <td>g</td>\n",
       "      <td>0</td>\n",
       "      <td>D</td>\n",
       "      <td>0</td>\n",
       "      <td>D</td>\n",
       "      <td>0</td>\n",
       "      <td>D</td>\n",
       "      <td>0</td>\n",
       "      <td>D</td>\n",
       "      <td>0</td>\n",
       "      <td>D</td>\n",
       "    </tr>\n",
       "    <tr>\n",
       "      <th>3</th>\n",
       "      <td>01</td>\n",
       "      <td>35007</td>\n",
       "      <td>8610000US35007</td>\n",
       "      <td>35007(ALABASTER,AL)</td>\n",
       "      <td>None</td>\n",
       "      <td>0</td>\n",
       "      <td>Total for all sectors</td>\n",
       "      <td>None</td>\n",
       "      <td>2012</td>\n",
       "      <td>596</td>\n",
       "      <td>None</td>\n",
       "      <td>10347</td>\n",
       "      <td>None</td>\n",
       "      <td>0</td>\n",
       "      <td>H</td>\n",
       "      <td>82101</td>\n",
       "      <td>None</td>\n",
       "      <td>0</td>\n",
       "      <td>H</td>\n",
       "      <td>343200</td>\n",
       "      <td>None</td>\n",
       "      <td>0</td>\n",
       "      <td>H</td>\n",
       "    </tr>\n",
       "    <tr>\n",
       "      <th>4</th>\n",
       "      <td>01</td>\n",
       "      <td>35010</td>\n",
       "      <td>8610000US35010</td>\n",
       "      <td>35010(ALEXANDER CITY,AL)</td>\n",
       "      <td>None</td>\n",
       "      <td>0</td>\n",
       "      <td>Total for all sectors</td>\n",
       "      <td>None</td>\n",
       "      <td>2012</td>\n",
       "      <td>463</td>\n",
       "      <td>None</td>\n",
       "      <td>6725</td>\n",
       "      <td>None</td>\n",
       "      <td>0</td>\n",
       "      <td>G</td>\n",
       "      <td>46164</td>\n",
       "      <td>None</td>\n",
       "      <td>0</td>\n",
       "      <td>G</td>\n",
       "      <td>196231</td>\n",
       "      <td>None</td>\n",
       "      <td>0</td>\n",
       "      <td>G</td>\n",
       "    </tr>\n",
       "  </tbody>\n",
       "</table>\n",
       "</div>"
      ],
      "text/plain": [
       "   ST ZIPCODE          GEO_ID                   GEO_TTL FOOTID_GEO  NAICS2012  \\\n",
       "0  01   35004  8610000US35004           35004(MOODY,AL)       None          0   \n",
       "1  01   35005  8610000US35005      35005(ADAMSVILLE,AL)       None          0   \n",
       "2  01   35006  8610000US35006           35006(ADGER,AL)       None          0   \n",
       "3  01   35007  8610000US35007       35007(ALABASTER,AL)       None          0   \n",
       "4  01   35010  8610000US35010  35010(ALEXANDER CITY,AL)       None          0   \n",
       "\n",
       "           NAICS2012_TTL FOOTID_NAICS  YEAR  ESTAB ESTAB_F    EMP EMP_F  \\\n",
       "0  Total for all sectors         None  2012    167    None   2574  None   \n",
       "1  Total for all sectors         None  2012     88    None    665  None   \n",
       "2  Total for all sectors         None  2012     20    None      0     g   \n",
       "3  Total for all sectors         None  2012    596    None  10347  None   \n",
       "4  Total for all sectors         None  2012    463    None   6725  None   \n",
       "\n",
       "   EMP_N EMP_N_F  PAYQTR1 PAYQTR1_F  PAYQTR1_N PAYQTR1_N_F  PAYANN PAYANN_F  \\\n",
       "0      0       H    19448      None          0           H   83803     None   \n",
       "1      0       G     3948      None          0           G   16299     None   \n",
       "2      0       D        0         D          0           D       0        D   \n",
       "3      0       H    82101      None          0           H  343200     None   \n",
       "4      0       G    46164      None          0           G  196231     None   \n",
       "\n",
       "   PAYANN_N PAYANN_N_F  \n",
       "0         0          H  \n",
       "1         0          G  \n",
       "2         0          D  \n",
       "3         0          H  \n",
       "4         0          G  "
      ]
     },
     "execution_count": 8,
     "metadata": {},
     "output_type": "execute_result"
    }
   ],
   "source": [
    "raw.smvPdHead(5)"
   ]
  },
  {
   "cell_type": "code",
   "execution_count": 9,
   "metadata": {
    "collapsed": false
   },
   "outputs": [
    {
     "data": {
      "text/plain": [
       "38818"
      ]
     },
     "execution_count": 9,
     "metadata": {},
     "output_type": "execute_result"
    }
   ],
   "source": [
    "# get the number of records\n",
    "raw.count()"
   ]
  },
  {
   "cell_type": "markdown",
   "metadata": {},
   "source": [
    "----\n",
    "<a name='bookmark2'/>\n",
    "### Extended Data Dictionary (EDD)"
   ]
  },
  {
   "cell_type": "markdown",
   "metadata": {},
   "source": [
    "Apart from the name / data type of each field and total number of records, some basic statistics of certain fields quickly may also be important for the following analyses. Smv provides the `smvEdd` method as a quick summary of basic statistics for different types of variables. One may choose to use `smvEdd` on all or selected columns."
   ]
  },
  {
   "cell_type": "code",
   "execution_count": 10,
   "metadata": {
    "collapsed": false
   },
   "outputs": [
    {
     "name": "stdout",
     "output_type": "stream",
     "text": [
      "ST                   Non-Null Count         38818\n",
      "ST                   Null Count             0\n",
      "ST                   Min Length             2\n",
      "ST                   Max Length             2\n",
      "ST                   Approx Distinct Count  52\n",
      "YEAR                 Non-Null Count         38818\n",
      "YEAR                 Null Count             0\n",
      "YEAR                 Min Length             4\n",
      "YEAR                 Max Length             4\n",
      "YEAR                 Approx Distinct Count  1\n",
      "EMP                  Non-Null Count         38818\n",
      "EMP                  Null Count             0\n",
      "EMP                  Average                2907.469241073729\n",
      "EMP                  Standard Deviation     15393.485966796263\n",
      "EMP                  Min                    0.0\n",
      "EMP                  Max                    2733406.0\n"
     ]
    }
   ],
   "source": [
    "raw.smvEdd(\"ST\", \"YEAR\", \"EMP\")\n",
    "# raw.smvEdd() will simply return EDD results for all columns"
   ]
  },
  {
   "cell_type": "markdown",
   "metadata": {},
   "source": [
    "From the EDD, not only can we get a sense of the general value distribution of the columns, but we can also validate the input data. For example, from the results we have validated that all data in this input file are for 2012 as there is only one distinct value."
   ]
  },
  {
   "cell_type": "markdown",
   "metadata": {},
   "source": [
    "EDD needs to scan full data, thus sometimes it is not efficient and could be risky to run EDD on full data, especially when we face a large data size or we would like to run EDD on all columns to get distributions in one operation. One suggested way is to take a **random sample** of the input data. Given the distributions of most columns on a randomly sampled data will generally be very similar to those on the full data, so usually running EDD on a random sample can serve our purpose to quickly check the input data well.\n",
    "\n",
    "Simply run the `sample(withReplacement, fraction, seed=None)` to randomly take x% of total records."
   ]
  },
  {
   "cell_type": "code",
   "execution_count": 11,
   "metadata": {
    "collapsed": false
   },
   "outputs": [
    {
     "data": {
      "text/plain": [
       "3929"
      ]
     },
     "execution_count": 11,
     "metadata": {},
     "output_type": "execute_result"
    }
   ],
   "source": [
    "raw_sample = raw.sample(False, 0.1, 99).cache() # random sample 10% records from input data\n",
    "raw_sample.count()"
   ]
  },
  {
   "cell_type": "markdown",
   "metadata": {},
   "source": [
    "Note that `raw_sample = raw.sample(False, 0.1, 99)` only defines the logic of sampling and does not actually generate the concrete data, we need to use `cache` to make the sample data cached such that in the following operations that call the `raw_sample`, the cached data will be used. Without using `cache`, when we run the command `raw_sample.count()` below, it will firstly run `raw_sample = raw.sample(False, 0.1, 99)` again and then run `count`, which is not efficient and may be risky if the size of the full data is very large.\n",
    "\n",
    "After generating a sample data, we can run EDD on the columns that we are interested in or all columns."
   ]
  },
  {
   "cell_type": "code",
   "execution_count": 12,
   "metadata": {
    "collapsed": false
   },
   "outputs": [
    {
     "name": "stdout",
     "output_type": "stream",
     "text": [
      "ESTAB                Non-Null Count         3929\n",
      "ESTAB                Null Count             0\n",
      "ESTAB                Average                191.3840671926699\n",
      "ESTAB                Standard Deviation     365.86453059306115\n",
      "ESTAB                Min                    1.0\n",
      "ESTAB                Max                    5933.0\n",
      "YEAR                 Non-Null Count         3929\n",
      "YEAR                 Null Count             0\n",
      "YEAR                 Min Length             4\n",
      "YEAR                 Max Length             4\n",
      "YEAR                 Approx Distinct Count  1\n",
      "ST                   Non-Null Count         3929\n",
      "ST                   Null Count             0\n",
      "ST                   Min Length             2\n",
      "ST                   Max Length             2\n",
      "ST                   Approx Distinct Count  51\n",
      "PAYANN               Non-Null Count         3929\n",
      "PAYANN               Null Count             0\n",
      "PAYANN               Average                129534.93789768389\n",
      "PAYANN               Standard Deviation     389923.74256307114\n",
      "PAYANN               Min                    0.0\n",
      "PAYANN               Max                    8483270.0\n",
      "EMP                  Non-Null Count         3929\n",
      "EMP                  Null Count             0\n",
      "EMP                  Average                2877.9600407228304\n",
      "EMP                  Standard Deviation     6623.526433068234\n",
      "EMP                  Min                    0.0\n",
      "EMP                  Max                    109134.0\n"
     ]
    }
   ],
   "source": [
    "raw_sample.smvEdd(\"ST\", \"YEAR\", \"ESTAB\", \"EMP\", \"PAYANN\")"
   ]
  },
  {
   "cell_type": "markdown",
   "metadata": {},
   "source": [
    "----\n",
    "<a name='bookmark3'/>\n",
    "### Detailed Distribution Check"
   ]
  },
  {
   "cell_type": "markdown",
   "metadata": {},
   "source": [
    "After looking at the basic statistics of many columns, based on the business problem we may want to understand the distribution of certain variables in a more detailed manner, like the value frequency for categorical values or value distribution for numerical variables."
   ]
  },
  {
   "cell_type": "markdown",
   "metadata": {},
   "source": [
    "Smv offers various functions to check distribution. For example, `smvHist` is a pretty convenient function which can detect data types, and run frequency distribution for categorical variables and binned distribution for numerical variables together. Same as `smvEdd`, one can choose to run `smvHist` on all or select columns based on business requirement.\n",
    "\n",
    "#### Check one column\n",
    "For example, we can look at the value distribution of # of establishments like below:"
   ]
  },
  {
   "cell_type": "code",
   "execution_count": 13,
   "metadata": {
    "collapsed": false,
    "scrolled": true
   },
   "outputs": [
    {
     "name": "stdout",
     "output_type": "stream",
     "text": [
      "Histogram of ESTAB: with BIN size 100.0\n",
      "key                      count      Pct    cumCount   cumPct\n",
      "0.0                      26060   67.13%       26060   67.13%\n",
      "100.0                     3129    8.06%       29189   75.19%\n",
      "200.0                     1960    5.05%       31149   80.24%\n",
      "300.0                     1445    3.72%       32594   83.97%\n",
      "400.0                     1136    2.93%       33730   86.89%\n",
      "500.0                      937    2.41%       34667   89.31%\n",
      "600.0                      820    2.11%       35487   91.42%\n",
      "700.0                      616    1.59%       36103   93.01%\n",
      "800.0                      552    1.42%       36655   94.43%\n",
      "900.0                      422    1.09%       37077   95.51%\n",
      "1000.0                     338    0.87%       37415   96.39%\n",
      "1100.0                     314    0.81%       37729   97.19%\n",
      "1200.0                     230    0.59%       37959   97.79%\n",
      "1300.0                     173    0.45%       38132   98.23%\n",
      "1400.0                     139    0.36%       38271   98.59%\n",
      "1500.0                     118    0.30%       38389   98.89%\n",
      "1600.0                      81    0.21%       38470   99.10%\n",
      "1700.0                      70    0.18%       38540   99.28%\n",
      "1800.0                      54    0.14%       38594   99.42%\n",
      "1900.0                      46    0.12%       38640   99.54%\n",
      "2000.0                      38    0.10%       38678   99.64%\n",
      "2100.0                      27    0.07%       38705   99.71%\n",
      "2200.0                      17    0.04%       38722   99.75%\n",
      "2300.0                      19    0.05%       38741   99.80%\n",
      "2400.0                      13    0.03%       38754   99.84%\n",
      "2500.0                      15    0.04%       38769   99.87%\n",
      "2600.0                       2    0.01%       38771   99.88%\n",
      "2700.0                       6    0.02%       38777   99.89%\n",
      "2800.0                       9    0.02%       38786   99.92%\n",
      "2900.0                       6    0.02%       38792   99.93%\n",
      "3000.0                       7    0.02%       38799   99.95%\n",
      "3100.0                       1    0.00%       38800   99.95%\n",
      "3200.0                       3    0.01%       38803   99.96%\n",
      "3400.0                       1    0.00%       38804   99.96%\n",
      "3600.0                       1    0.00%       38805   99.97%\n",
      "3700.0                       1    0.00%       38806   99.97%\n",
      "3800.0                       1    0.00%       38807   99.97%\n",
      "3900.0                       1    0.00%       38808   99.97%\n",
      "4200.0                       1    0.00%       38809   99.98%\n",
      "4800.0                       1    0.00%       38810   99.98%\n",
      "5000.0                       1    0.00%       38811   99.98%\n",
      "5300.0                       1    0.00%       38812   99.98%\n",
      "5900.0                       1    0.00%       38813   99.99%\n",
      "6100.0                       1    0.00%       38814   99.99%\n",
      "6400.0                       1    0.00%       38815   99.99%\n",
      "6600.0                       1    0.00%       38816   99.99%\n",
      "7200.0                       1    0.00%       38817  100.00%\n",
      "16400.0                      1    0.00%       38818  100.00%\n",
      "-------------------------------------------------\n"
     ]
    }
   ],
   "source": [
    "raw.smvHist(\"ESTAB\")"
   ]
  },
  {
   "cell_type": "markdown",
   "metadata": {},
   "source": [
    "From this histogram summary, we can see that about 67% of the records has # of establishments < 100. As you can see the bin size is set as 100 in `smvHist`, what if we would like to define the bin size by ourselves to view data in a more or less granular way? `smvBinHist` offers the flexibility to define the bin size."
   ]
  },
  {
   "cell_type": "code",
   "execution_count": 14,
   "metadata": {
    "collapsed": false
   },
   "outputs": [
    {
     "name": "stdout",
     "output_type": "stream",
     "text": [
      "Histogram of ESTAB: with BIN size 80.0\n",
      "key                      count      Pct    cumCount   cumPct\n",
      "0.0                      24954   64.28%       24954   64.28%\n",
      "80.0                      3264    8.41%       28218   72.69%\n",
      "160.0                     1848    4.76%       30066   77.45%\n",
      "240.0                     1391    3.58%       31457   81.04%\n",
      "320.0                     1137    2.93%       32594   83.97%\n",
      "400.0                      923    2.38%       33517   86.34%\n",
      "480.0                      804    2.07%       34321   88.42%\n",
      "560.0                      680    1.75%       35001   90.17%\n",
      "640.0                      619    1.59%       35620   91.76%\n",
      "720.0                      483    1.24%       36103   93.01%\n",
      "800.0                      465    1.20%       36568   94.20%\n",
      "880.0                      355    0.91%       36923   95.12%\n",
      "960.0                      319    0.82%       37242   95.94%\n",
      "1040.0                     241    0.62%       37483   96.56%\n",
      "1120.0                     246    0.63%       37729   97.19%\n",
      "1200.0                     191    0.49%       37920   97.69%\n",
      "1280.0                     152    0.39%       38072   98.08%\n",
      "1360.0                     115    0.30%       38187   98.37%\n",
      "1440.0                     115    0.30%       38302   98.67%\n",
      "1520.0                      87    0.22%       38389   98.89%\n",
      "1600.0                      64    0.16%       38453   99.06%\n",
      "1680.0                      53    0.14%       38506   99.20%\n",
      "1760.0                      63    0.16%       38569   99.36%\n",
      "1840.0                      34    0.09%       38603   99.45%\n",
      "1920.0                      37    0.10%       38640   99.54%\n",
      "2000.0                      35    0.09%       38675   99.63%\n",
      "2080.0                      23    0.06%       38698   99.69%\n",
      "2160.0                       9    0.02%       38707   99.71%\n",
      "2240.0                      18    0.05%       38725   99.76%\n",
      "2320.0                      16    0.04%       38741   99.80%\n",
      "2400.0                      11    0.03%       38752   99.83%\n",
      "2480.0                      11    0.03%       38763   99.86%\n",
      "2560.0                       7    0.02%       38770   99.88%\n",
      "2640.0                       2    0.01%       38772   99.88%\n",
      "2720.0                       5    0.01%       38777   99.89%\n",
      "2800.0                       6    0.02%       38783   99.91%\n",
      "2880.0                       7    0.02%       38790   99.93%\n",
      "2960.0                       5    0.01%       38795   99.94%\n",
      "3040.0                       5    0.01%       38800   99.95%\n",
      "3200.0                       2    0.01%       38802   99.96%\n",
      "3280.0                       1    0.00%       38803   99.96%\n",
      "3440.0                       1    0.00%       38804   99.96%\n",
      "3600.0                       1    0.00%       38805   99.97%\n",
      "3760.0                       1    0.00%       38806   99.97%\n",
      "3840.0                       1    0.00%       38807   99.97%\n",
      "3920.0                       1    0.00%       38808   99.97%\n",
      "4160.0                       1    0.00%       38809   99.98%\n",
      "4800.0                       1    0.00%       38810   99.98%\n",
      "4960.0                       1    0.00%       38811   99.98%\n",
      "5360.0                       1    0.00%       38812   99.98%\n",
      "5920.0                       1    0.00%       38813   99.99%\n",
      "6080.0                       1    0.00%       38814   99.99%\n",
      "6400.0                       1    0.00%       38815   99.99%\n",
      "6640.0                       1    0.00%       38816   99.99%\n",
      "7200.0                       1    0.00%       38817  100.00%\n",
      "16400.0                      1    0.00%       38818  100.00%\n",
      "-------------------------------------------------\n"
     ]
    }
   ],
   "source": [
    "raw.smvBinHist((\"ESTAB\", 80))"
   ]
  },
  {
   "cell_type": "markdown",
   "metadata": {},
   "source": [
    "Additionally, if we would like to visualize the distribution to help understand the data better, we can easily define some functions in python context to realize that."
   ]
  },
  {
   "cell_type": "code",
   "execution_count": 15,
   "metadata": {
    "collapsed": false,
    "scrolled": true
   },
   "outputs": [],
   "source": [
    "# Use self-defined functions to visualize distribution\n",
    "DataFrame.smvPdFreqHist = lambda df,col: df.toPandas()[col].value_counts().plot(kind='bar')\n",
    "DataFrame.smvPdHist = lambda df,col,n: df.toPandas()[col].hist(bins=n, alpha=0.3, color='k')"
   ]
  },
  {
   "cell_type": "markdown",
   "metadata": {},
   "source": [
    "Given `toPandas` will load data in memory, it is of risk to directly use the full data. It is suggested to use the sample data to be converted into pandas dataframe for visualization."
   ]
  },
  {
   "cell_type": "code",
   "execution_count": 16,
   "metadata": {
    "collapsed": false,
    "scrolled": true
   },
   "outputs": [
    {
     "data": {
      "text/plain": [
       "<matplotlib.axes._subplots.AxesSubplot at 0x10815b650>"
      ]
     },
     "execution_count": 16,
     "metadata": {},
     "output_type": "execute_result"
    },
    {
     "data": {
      "image/png": "[encoded data removed]",
      "text/plain": [
       "<matplotlib.figure.Figure at 0x1010376d0>"
      ]
     },
     "metadata": {},
     "output_type": "display_data"
    }
   ],
   "source": [
    "raw_sample.smvPdHist(\"ESTAB\",50)"
   ]
  },
  {
   "cell_type": "markdown",
   "metadata": {},
   "source": [
    "#### Cross check between columns    \n",
    "Certain variables are related to each other per business meaning, and it is also necessary to do some cross checks upon multiple columns. \n",
    "\n",
    "For instance, for certain counties employee count data are suppressed, where the value in \"EMP\" column is 0. The data suppression flag is \"EMP_F\", with categorical values to only denote the employment size range.\n",
    "\n",
    "|flag in EMP_F|employee size range|\n",
    "|---|---|\n",
    "|a\t|0 to 19 employees |\n",
    "|b\t|20 to 99 employees |\n",
    "|c\t|100 to 249 employees |\n",
    "|e\t|250 to 499 employees |\n",
    "|f\t|500 to 999 employees |\n",
    "|g\t|1,000 to 2,499 employees |\n",
    "|h\t|2,500 to 4,999 employees |\n",
    "|i\t|5,000 to 9,999 employees |\n",
    "|j\t|10,000 to 24,999 employees |\n",
    "|l\t|50,000 to 99,999 employees |\n",
    "|k\t|25,000 to 49,999 employees |\n",
    "|m\t|100,000 employees or more |\n",
    "\n",
    "Example records are as below:"
   ]
  },
  {
   "cell_type": "code",
   "execution_count": 17,
   "metadata": {
    "collapsed": false
   },
   "outputs": [
    {
     "data": {
      "text/html": [
       "<div>\n",
       "<table border=\"1\" class=\"dataframe\">\n",
       "  <thead>\n",
       "    <tr style=\"text-align: right;\">\n",
       "      <th></th>\n",
       "      <th>ST</th>\n",
       "      <th>GEO_TTL</th>\n",
       "      <th>EMP</th>\n",
       "      <th>EMP_F</th>\n",
       "    </tr>\n",
       "  </thead>\n",
       "  <tbody>\n",
       "    <tr>\n",
       "      <th>0</th>\n",
       "      <td>01</td>\n",
       "      <td>35004(MOODY,AL)</td>\n",
       "      <td>2574</td>\n",
       "      <td>None</td>\n",
       "    </tr>\n",
       "    <tr>\n",
       "      <th>1</th>\n",
       "      <td>01</td>\n",
       "      <td>35005(ADAMSVILLE,AL)</td>\n",
       "      <td>665</td>\n",
       "      <td>None</td>\n",
       "    </tr>\n",
       "    <tr>\n",
       "      <th>2</th>\n",
       "      <td>01</td>\n",
       "      <td>35006(ADGER,AL)</td>\n",
       "      <td>0</td>\n",
       "      <td>g</td>\n",
       "    </tr>\n",
       "    <tr>\n",
       "      <th>3</th>\n",
       "      <td>01</td>\n",
       "      <td>35007(ALABASTER,AL)</td>\n",
       "      <td>10347</td>\n",
       "      <td>None</td>\n",
       "    </tr>\n",
       "    <tr>\n",
       "      <th>4</th>\n",
       "      <td>01</td>\n",
       "      <td>35010(ALEXANDER CITY,AL)</td>\n",
       "      <td>6725</td>\n",
       "      <td>None</td>\n",
       "    </tr>\n",
       "    <tr>\n",
       "      <th>5</th>\n",
       "      <td>01</td>\n",
       "      <td>35011(ALEXANDER CITY,AL)</td>\n",
       "      <td>0</td>\n",
       "      <td>f</td>\n",
       "    </tr>\n",
       "    <tr>\n",
       "      <th>6</th>\n",
       "      <td>01</td>\n",
       "      <td>35013(ALLGOOD,AL)</td>\n",
       "      <td>0</td>\n",
       "      <td>b</td>\n",
       "    </tr>\n",
       "    <tr>\n",
       "      <th>7</th>\n",
       "      <td>01</td>\n",
       "      <td>35014(ALPINE,AL)</td>\n",
       "      <td>106</td>\n",
       "      <td>None</td>\n",
       "    </tr>\n",
       "    <tr>\n",
       "      <th>8</th>\n",
       "      <td>01</td>\n",
       "      <td>35015(ALTON,AL)</td>\n",
       "      <td>0</td>\n",
       "      <td>b</td>\n",
       "    </tr>\n",
       "    <tr>\n",
       "      <th>9</th>\n",
       "      <td>01</td>\n",
       "      <td>35016(ARAB,AL)</td>\n",
       "      <td>3306</td>\n",
       "      <td>None</td>\n",
       "    </tr>\n",
       "  </tbody>\n",
       "</table>\n",
       "</div>"
      ],
      "text/plain": [
       "   ST                   GEO_TTL    EMP EMP_F\n",
       "0  01           35004(MOODY,AL)   2574  None\n",
       "1  01      35005(ADAMSVILLE,AL)    665  None\n",
       "2  01           35006(ADGER,AL)      0     g\n",
       "3  01       35007(ALABASTER,AL)  10347  None\n",
       "4  01  35010(ALEXANDER CITY,AL)   6725  None\n",
       "5  01  35011(ALEXANDER CITY,AL)      0     f\n",
       "6  01         35013(ALLGOOD,AL)      0     b\n",
       "7  01          35014(ALPINE,AL)    106  None\n",
       "8  01           35015(ALTON,AL)      0     b\n",
       "9  01            35016(ARAB,AL)   3306  None"
      ]
     },
     "execution_count": 17,
     "metadata": {},
     "output_type": "execute_result"
    }
   ],
   "source": [
    "raw.select(\"ST\", \"GEO_TTL\", \"EMP\", \"EMP_F\").smvPdHead(10)"
   ]
  },
  {
   "cell_type": "markdown",
   "metadata": {},
   "source": [
    "Similar data suppressions also exist for establishment and payroll, we can cross check the 3 data suppresion flags (\"EMP_F\", \"ESTAB_F\" and \"PAYANN_F\") to see whether suppressions happen on the same county for all three stats or not. We can use `smvConcatHist` to check joint distribution of these 3 categorical variables."
   ]
  },
  {
   "cell_type": "code",
   "execution_count": 18,
   "metadata": {
    "collapsed": false
   },
   "outputs": [
    {
     "name": "stdout",
     "output_type": "stream",
     "text": [
      "Histogram of ESTAB_F_EMP_F_ind_PAYANN_F: String sort by Key\n",
      "key                      count      Pct    cumCount   cumPct\n",
      "null                     29639   76.35%       29639   76.35%\n",
      "_S_                       2090    5.38%       31729   81.74%\n",
      "_S_D                      7089   18.26%       38818  100.00%\n",
      "-------------------------------------------------\n"
     ]
    }
   ],
   "source": [
    "raw.select(\n",
    "    \"ESTAB_F\",\n",
    "    \"PAYANN_F\",\n",
    "    when(col(\"EMP_F\").isNotNull(), \"S\").alias(\"EMP_F_ind\")  #define an indicator as there are too many values in \"EMP_F\"\n",
    ").smvConcatHist(\"ESTAB_F\", \"EMP_F_ind\", \"PAYANN_F\")"
   ]
  },
  {
   "cell_type": "markdown",
   "metadata": {},
   "source": [
    "This shows:\n",
    "- no data suppresion for establishments, as all values in \"ESTAB_F\" are null\n",
    "- More than 76% records have no data suppressions\n",
    "- ~5% records have only employment data suppressed\n",
    "- ~18% records have both employment and payroll data suppressed"
   ]
  },
  {
   "cell_type": "markdown",
   "metadata": {
    "collapsed": true
   },
   "source": [
    "----\n",
    "<a name='bookmark4'/>\n",
    "### Primary Key"
   ]
  },
  {
   "cell_type": "markdown",
   "metadata": {},
   "source": [
    "Before proceeding to any kind of detailed analysis, we must know the level of the data. Essentially we need to understand what each record represents: for example does each record represent census numbers for one state or one zip code? A **primary key** or a set of primary keys can uniquely identify one record of the data. To understand the level of the data, we will either find out the primary keys or validate the primary keys stated in the available input data document."
   ]
  },
  {
   "cell_type": "markdown",
   "metadata": {},
   "source": [
    "Use `smvDiscoverPK` method to find the column combinations that can uniquely identify a row of data. "
   ]
  },
  {
   "cell_type": "code",
   "execution_count": 19,
   "metadata": {
    "collapsed": false
   },
   "outputs": [
    {
     "name": "stdout",
     "output_type": "stream",
     "text": [
      "[ZIPCODE], 5000\n"
     ]
    }
   ],
   "source": [
    "# run on 5000 records to identify PK\n",
    "raw.smvDiscoverPK(5000)"
   ]
  },
  {
   "cell_type": "markdown",
   "metadata": {},
   "source": [
    "\"ZIPCODE\" is identified as the primary key for the data. `smvDiscoverPK` finds one combination of columns to uniquely identify one record, there could be other columns combinations.\n",
    "\n",
    "One can also choose to validate the primary key if the information is stated in relevant data document. From census information and the peek of data, each record represents summary statistics for each county (ZIPCODE). We can validate this by deduping by key \"ZIPCODE\" and see whether the total # of records change. Given running dedup on large data set can be of high cost, we can run on sample data or first n rows similar to the `smvDiscoverPK` method. "
   ]
  },
  {
   "cell_type": "code",
   "execution_count": 20,
   "metadata": {
    "collapsed": false
   },
   "outputs": [
    {
     "data": {
      "text/plain": [
       "3929"
      ]
     },
     "execution_count": 20,
     "metadata": {},
     "output_type": "execute_result"
    }
   ],
   "source": [
    "raw_sample.count()"
   ]
  },
  {
   "cell_type": "code",
   "execution_count": 21,
   "metadata": {
    "collapsed": false
   },
   "outputs": [
    {
     "data": {
      "text/plain": [
       "3929"
      ]
     },
     "execution_count": 21,
     "metadata": {},
     "output_type": "execute_result"
    }
   ],
   "source": [
    "raw_sample.smvDedupByKey(\"ZIPCODE\").count()"
   ]
  },
  {
   "cell_type": "markdown",
   "metadata": {
    "collapsed": true
   },
   "source": [
    "The total # of records remains the same, which suggests \"ZIPCODE\" can uniquely identify one record of the data."
   ]
  },
  {
   "cell_type": "code",
   "execution_count": null,
   "metadata": {
    "collapsed": true
   },
   "outputs": [],
   "source": []
  }
 ],
 "metadata": {
  "kernelspec": {
   "display_name": "Python 2",
   "language": "python",
   "name": "python2"
  },
  "language_info": {
   "codemirror_mode": {
    "name": "ipython",
    "version": 2
   },
   "file_extension": ".py",
   "mimetype": "text/x-python",
   "name": "python",
   "nbconvert_exporter": "python",
   "pygments_lexer": "ipython2",
   "version": "2.7.10"
  }
 },
 "nbformat": 4,
 "nbformat_minor": 1
}
