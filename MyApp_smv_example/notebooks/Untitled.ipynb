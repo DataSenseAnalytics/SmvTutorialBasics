{
 "cells": [
  {
   "cell_type": "markdown",
   "metadata": {},
   "source": [
    "#### discoverSchema example"
   ]
  },
  {
   "cell_type": "code",
   "execution_count": 13,
   "metadata": {
    "collapsed": false
   },
   "outputs": [],
   "source": [
    "discoverSchema(\"../dummy_data/CB1200CZ11_dummy.csv\", 100, ca = CsvAttributes(delimiter = '|', hasHeader = True))"
   ]
  },
  {
   "cell_type": "markdown",
   "metadata": {},
   "source": [
    "#### Run Modules"
   ]
  },
  {
   "cell_type": "code",
   "execution_count": 3,
   "metadata": {
    "collapsed": true
   },
   "outputs": [],
   "source": [
    "a=df(\"stage1.employment.EmploymentByState\")"
   ]
  },
  {
   "cell_type": "code",
   "execution_count": 4,
   "metadata": {
    "collapsed": false
   },
   "outputs": [
    {
     "name": "stdout",
     "output_type": "stream",
     "text": [
      "+---+-------+\n",
      "| ST|    EMP|\n",
      "+---+-------+\n",
      "| 50| 245058|\n",
      "| 51|2933665|\n",
      "| 53|2310426|\n",
      "| 54| 531834|\n",
      "| 55|2325877|\n",
      "+---+-------+\n",
      "only showing top 5 rows\n",
      "\n"
     ]
    }
   ],
   "source": [
    "a.show(5)"
   ]
  },
  {
   "cell_type": "code",
   "execution_count": 4,
   "metadata": {
    "collapsed": false
   },
   "outputs": [],
   "source": [
    "b=df(\"stage1.employment.EmploymentByState\")"
   ]
  },
  {
   "cell_type": "code",
   "execution_count": 5,
   "metadata": {
    "collapsed": false
   },
   "outputs": [
    {
     "name": "stdout",
     "output_type": "stream",
     "text": [
      "+---+-------+------------------+\n",
      "| ST|    EMP|avg_PAYANN_per_EMP|\n",
      "+---+-------+------------------+\n",
      "| 50| 245058| 33.10683760683761|\n",
      "| 51|2933665|34.760765550239235|\n",
      "| 53|2310426| 37.18738738738739|\n",
      "| 54| 531834|31.526558891454965|\n",
      "| 55|2325877| 33.40940525587828|\n",
      "+---+-------+------------------+\n",
      "only showing top 5 rows\n",
      "\n"
     ]
    }
   ],
   "source": [
    "b.show(5)"
   ]
  },
  {
   "cell_type": "code",
   "execution_count": 5,
   "metadata": {
    "collapsed": false
   },
   "outputs": [],
   "source": [
    "c=df(\"stage1.employment.EmploymentClean\")"
   ]
  },
  {
   "cell_type": "code",
   "execution_count": 6,
   "metadata": {
    "collapsed": false
   },
   "outputs": [
    {
     "name": "stdout",
     "output_type": "stream",
     "text": [
      "+---+-------+--------------+--------------------+----------+---------+--------------------+------------+----+-----+-------+-----+-----+-----+-------+-------+---------+---------+-----------+------+--------+--------+----------+-----+\n",
      "| ST|ZIPCODE|        GEO_ID|             GEO_TTL|FOOTID_GEO|NAICS2012|       NAICS2012_TTL|FOOTID_NAICS|YEAR|ESTAB|ESTAB_F|  EMP|EMP_F|EMP_N|EMP_N_F|PAYQTR1|PAYQTR1_F|PAYQTR1_N|PAYQTR1_N_F|PAYANN|PAYANN_F|PAYANN_N|PAYANN_N_F|ST_CD|\n",
      "+---+-------+--------------+--------------------+----------+---------+--------------------+------------+----+-----+-------+-----+-----+-----+-------+-------+---------+---------+-----------+------+--------+--------+----------+-----+\n",
      "| 01|  35004|8610000US35004|     35004(MOODY,AL)|      null|        0|Total for all sec...|        null|2012|  167|   null| 2574| null|    0|      H|  19448|     null|        0|          H| 83803|    null|       0|         H|   AL|\n",
      "| 01|  35005|8610000US35005|35005(ADAMSVILLE,AL)|      null|        0|Total for all sec...|        null|2012|   88|   null|  665| null|    0|      G|   3948|     null|        0|          G| 16299|    null|       0|         G|   AL|\n",
      "| 01|  35007|8610000US35007| 35007(ALABASTER,AL)|      null|        0|Total for all sec...|        null|2012|  596|   null|10347| null|    0|      H|  82101|     null|        0|          H|343200|    null|       0|         H|   AL|\n",
      "| 01|  35010|8610000US35010|35010(ALEXANDER C...|      null|        0|Total for all sec...|        null|2012|  463|   null| 6725| null|    0|      G|  46164|     null|        0|          G|196231|    null|       0|         G|   AL|\n",
      "| 01|  35014|8610000US35014|    35014(ALPINE,AL)|      null|        0|Total for all sec...|        null|2012|   23|   null|  106| null|    0|      G|    541|     null|        0|          G|  2486|    null|       0|         G|   AL|\n",
      "+---+-------+--------------+--------------------+----------+---------+--------------------+------------+----+-----+-------+-----+-----+-----+-------+-------+---------+---------+-----------+------+--------+--------+----------+-----+\n",
      "only showing top 5 rows\n",
      "\n"
     ]
    }
   ],
   "source": [
    "c.show(5)"
   ]
  },
  {
   "cell_type": "code",
   "execution_count": 8,
   "metadata": {
    "collapsed": false
   },
   "outputs": [],
   "source": [
    "d=df(\"stage1.employment.EmpPayRollFeature\")"
   ]
  },
  {
   "cell_type": "code",
   "execution_count": 9,
   "metadata": {
    "collapsed": false
   },
   "outputs": [
    {
     "name": "stdout",
     "output_type": "stream",
     "text": [
      "+---+-----+-------+------------------+----------------------------+-----------------------------+\n",
      "| ST|ST_CD|ZIPCODE|    PAYANN_per_EMP|diff_avg_ctry_PAYANN_per_EMP|diff_avg_state_PAYANN_per_EMP|\n",
      "+---+-----+-------+------------------+----------------------------+-----------------------------+\n",
      "| 28|   MS|  38601|28.836363636363636|          -6.972582561806078|           -1.833267278147325|\n",
      "| 28|   MS|  38603| 30.99103139013453|          -4.817914808035184|          0.32140047562356955|\n",
      "| 28|   MS|  38606|  31.2497656354627|          -4.559180562707013|           0.5801347209517402|\n",
      "| 28|   MS|  38610|25.640776699029125|         -10.168169499140589|           -5.028854215481836|\n",
      "| 28|   MS|  38611|  33.8766592920354|         -1.9322869061343155|           3.2070283775244377|\n",
      "+---+-----+-------+------------------+----------------------------+-----------------------------+\n",
      "only showing top 5 rows\n",
      "\n"
     ]
    }
   ],
   "source": [
    "d.show(5)"
   ]
  },
  {
   "cell_type": "code",
   "execution_count": 10,
   "metadata": {
    "collapsed": true
   },
   "outputs": [],
   "source": [
    "e=df(\"stage1.employment.EmpPayRollCounty\")"
   ]
  },
  {
   "cell_type": "code",
   "execution_count": 11,
   "metadata": {
    "collapsed": false
   },
   "outputs": [
    {
     "name": "stdout",
     "output_type": "stream",
     "text": [
      "+-----+------------+------------------------------+------------------------------+\n",
      "|ST_CD|cnt_counties|cnt_counties_avg_ge_state_ctry|pct_counties_avg_ge_state_ctry|\n",
      "+-----+------------+------------------------------+------------------------------+\n",
      "|   RI|          77|                            38|             49.35064935064935|\n",
      "|   DC|          69|                            33|             47.82608695652174|\n",
      "|   AK|         153|                            68|             44.44444444444444|\n",
      "|   NH|         224|                            98|                         43.75|\n",
      "|   WY|         128|                            54|                       42.1875|\n",
      "+-----+------------+------------------------------+------------------------------+\n",
      "only showing top 5 rows\n",
      "\n"
     ]
    }
   ],
   "source": [
    "e.show(5)"
   ]
  },
  {
   "cell_type": "code",
   "execution_count": null,
   "metadata": {
    "collapsed": true
   },
   "outputs": [],
   "source": [
    "discoverSchema(\"../dummy_data/CB1200CZ11_dummy.csv\", 100, ca = CsvAttributes(delimiter = '|', hasHeader = True))"
   ]
  }
 ],
 "metadata": {
  "kernelspec": {
   "display_name": "Python 2",
   "language": "python",
   "name": "python2"
  },
  "language_info": {
   "codemirror_mode": {
    "name": "ipython",
    "version": 2
   },
   "file_extension": ".py",
   "mimetype": "text/x-python",
   "name": "python",
   "nbconvert_exporter": "python",
   "pygments_lexer": "ipython2",
   "version": "2.7.10"
  }
 },
 "nbformat": 4,
 "nbformat_minor": 1
}
