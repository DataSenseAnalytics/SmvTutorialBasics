{
 "cells": [
  {
   "cell_type": "markdown",
   "metadata": {},
   "source": [
    "# Smv Exercise 1: Employment Data"
   ]
  },
  {
   "cell_type": "code",
   "execution_count": 1,
   "metadata": {
    "collapsed": true
   },
   "outputs": [],
   "source": [
    "# Import necessary packages\n",
    "import smv\n",
    "import pandas as pd\n",
    "from pyspark.sql import HiveContext, DataFrame\n",
    "\n",
    "%matplotlib inline\n",
    "import matplotlib\n",
    "import matplotlib.pyplot as plt\n",
    "\n",
    "# Read the input data from a csv file\n",
    "raw = openCsv(\"data/input/employment/CB1200CZ11.csv\")"
   ]
  },
  {
   "cell_type": "code",
   "execution_count": 2,
   "metadata": {
    "collapsed": true
   },
   "outputs": [],
   "source": [
    "raw_clean = raw.where(col(\"EMP_F\").isNull()).cache()\n",
    "df1 = raw_clean. \\\n",
    "smvSelectPlus(substring_index(substring_index(col(\"GEO_TTL\"), \",\", -1),\")\", 1).alias(\"ST_CD\")). \\\n",
    "where(length(col(\"ST_CD\"))<3).cache()"
   ]
  },
  {
   "cell_type": "markdown",
   "metadata": {},
   "source": [
    "### Q1: What are the distributions of ESTAB, EMP and PAYANN for state Illinois?"
   ]
  },
  {
   "cell_type": "code",
   "execution_count": 3,
   "metadata": {
    "collapsed": false
   },
   "outputs": [
    {
     "name": "stdout",
     "output_type": "stream",
     "text": [
      "ESTAB                Non-Null Count         1161\n",
      "ESTAB                Average                265.69853574504737\n",
      "ESTAB                Standard Deviation     428.20525058336733\n",
      "ESTAB                Min                    3.0\n",
      "ESTAB                Max                    3293.0\n",
      "EMP                  Non-Null Count         1161\n",
      "EMP                  Average                4216.646856158484\n",
      "EMP                  Standard Deviation     8844.549907127255\n",
      "EMP                  Min                    2.0\n",
      "EMP                  Max                    132982.0\n",
      "PAYANN               Non-Null Count         1161\n",
      "PAYANN               Average                207975.86735572782\n",
      "PAYANN               Standard Deviation     636282.6451741568\n",
      "PAYANN               Min                    61.0\n",
      "PAYANN               Max                    1.286426E7\n"
     ]
    }
   ],
   "source": [
    "df1.filter(col(\"ST_CD\")==\"IL\").smvEdd(\"ESTAB\", \"EMP\", \"PAYANN\")"
   ]
  },
  {
   "cell_type": "markdown",
   "metadata": {},
   "source": [
    "### Q2: Draw a histogram with 20 bins of payroll per employee for state California"
   ]
  },
  {
   "cell_type": "code",
   "execution_count": 4,
   "metadata": {
    "collapsed": false
   },
   "outputs": [
    {
     "data": {
      "text/plain": [
       "array([[<matplotlib.axes.AxesSubplot object at 0x1057b3110>]], dtype=object)"
      ]
     },
     "execution_count": 4,
     "metadata": {},
     "output_type": "execute_result"
    },
    {
     "data": {
      "image/png": "[encoded data removed]",
      "text/plain": [
       "<matplotlib.figure.Figure at 0x1057b3c50>"
      ]
     },
     "metadata": {},
     "output_type": "display_data"
    }
   ],
   "source": [
    "df1.filter(col(\"ST_CD\")==\"CA\").select((col(\"PAYANN\")/col(\"EMP\")).alias(\"payroll_per_emp\")).toPandas().hist(bins=20)"
   ]
  },
  {
   "cell_type": "markdown",
   "metadata": {},
   "source": [
    "### Q3: What are the top 5 states with the highest average employees per establishment?"
   ]
  },
  {
   "cell_type": "code",
   "execution_count": 5,
   "metadata": {
    "collapsed": false
   },
   "outputs": [
    {
     "name": "stdout",
     "output_type": "stream",
     "text": [
      "+-----+------------------+-------+\n",
      "|ST_CD| avg_emp_per_estab|country|\n",
      "+-----+------------------+-------+\n",
      "|   DC| 16.63768115942029|     US|\n",
      "|   CT|15.498316498316498|     US|\n",
      "|   UT|13.585774058577407|     US|\n",
      "|   SC|13.541371158392435|     US|\n",
      "|   NV|13.307692307692308|     US|\n",
      "+-----+------------------+-------+\n",
      "\n"
     ]
    }
   ],
   "source": [
    "df1.groupBy(\"ST_CD\").agg(\n",
    "    avg(col(\"EMP\")/col(\"ESTAB\")).alias(\"avg_emp_per_estab\"),\n",
    "    max(lit(\"US\")).alias(\"country\")\n",
    ").smvGroupBy(\"country\").smvTopNRecs(5, col(\"avg_emp_per_estab\").desc()).show()"
   ]
  },
  {
   "cell_type": "markdown",
   "metadata": {},
   "source": [
    "### Q4: What is the difference # of employees for each state if we don't do the data preprocessing to filter out observations with suppression?"
   ]
  },
  {
   "cell_type": "code",
   "execution_count": 6,
   "metadata": {
    "collapsed": false
   },
   "outputs": [
    {
     "name": "stdout",
     "output_type": "stream",
     "text": [
      "Histogram of avg_diff: with BIN size 50.0\n",
      "key                      count      Pct    cumCount   cumPct\n",
      "0.0                          1    1.92%           1    1.92%\n",
      "200.0                        1    1.92%           2    3.85%\n",
      "300.0                        1    1.92%           3    5.77%\n",
      "350.0                        2    3.85%           5    9.62%\n",
      "400.0                        3    5.77%           8   15.38%\n",
      "450.0                        3    5.77%          11   21.15%\n",
      "500.0                        5    9.62%          16   30.77%\n",
      "550.0                        2    3.85%          18   34.62%\n",
      "600.0                        3    5.77%          21   40.38%\n",
      "650.0                        3    5.77%          24   46.15%\n",
      "700.0                        3    5.77%          27   51.92%\n",
      "750.0                        3    5.77%          30   57.69%\n",
      "800.0                        3    5.77%          33   63.46%\n",
      "850.0                        2    3.85%          35   67.31%\n",
      "900.0                        4    7.69%          39   75.00%\n",
      "950.0                        3    5.77%          42   80.77%\n",
      "1000.0                       1    1.92%          43   82.69%\n",
      "1050.0                       2    3.85%          45   86.54%\n",
      "1100.0                       1    1.92%          46   88.46%\n",
      "1150.0                       1    1.92%          47   90.38%\n",
      "1200.0                       1    1.92%          48   92.31%\n",
      "1250.0                       1    1.92%          49   94.23%\n",
      "1500.0                       1    1.92%          50   96.15%\n",
      "1550.0                       1    1.92%          51   98.08%\n",
      "3850.0                       1    1.92%          52  100.00%\n",
      "-------------------------------------------------\n"
     ]
    }
   ],
   "source": [
    "state_avg1 = raw.groupBy(\"ST\").agg(\n",
    "    avg(\"EMP\").alias(\"avg1_EMP\")\n",
    ")\n",
    "\n",
    "state_avg2 = raw_clean.groupBy(\"ST\").agg(\n",
    "    avg(\"EMP\").alias(\"avg2_EMP\")\n",
    ")\n",
    "\n",
    "state_compare = state_avg2.smvJoinByKey(state_avg1, [\"ST\"], \"inner\").\\\n",
    "    smvSelectPlus((col(\"avg2_EMP\") - col(\"avg1_EMP\")).alias(\"avg_diff\"))\n",
    "    \n",
    "state_compare.smvBinHist((\"avg_diff\",50))"
   ]
  },
  {
   "cell_type": "markdown",
   "metadata": {},
   "source": [
    "### Q5: At state level, what is the covariance between average # of employees per establishment and average payroll per employee?"
   ]
  },
  {
   "cell_type": "code",
   "execution_count": 7,
   "metadata": {
    "collapsed": false
   },
   "outputs": [
    {
     "data": {
      "text/plain": [
       "5.4239489180928135"
      ]
     },
     "execution_count": 7,
     "metadata": {},
     "output_type": "execute_result"
    }
   ],
   "source": [
    "df1.groupBy(\"ST_CD\").agg(\n",
    "    avg(col(\"EMP\")/col(\"ESTAB\")).alias(\"avg_emp_per_estab\"),\n",
    "    avg(col(\"PAYANN\")/col(\"EMP\")).alias(\"avg_payroll_per_emp\")    \n",
    ").cov(\"avg_emp_per_estab\", \"avg_payroll_per_emp\")"
   ]
  },
  {
   "cell_type": "code",
   "execution_count": null,
   "metadata": {
    "collapsed": true
   },
   "outputs": [],
   "source": []
  }
 ],
 "metadata": {
  "kernelspec": {
   "display_name": "Python 2",
   "language": "python",
   "name": "python2"
  },
  "language_info": {
   "codemirror_mode": {
    "name": "ipython",
    "version": 2
   },
   "file_extension": ".py",
   "mimetype": "text/x-python",
   "name": "python",
   "nbconvert_exporter": "python",
   "pygments_lexer": "ipython2",
   "version": "2.7.10"
  }
 },
 "nbformat": 4,
 "nbformat_minor": 1
}
