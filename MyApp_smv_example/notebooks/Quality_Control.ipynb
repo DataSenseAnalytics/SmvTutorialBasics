{
 "cells": [
  {
   "cell_type": "markdown",
   "metadata": {},
   "source": [
    "# Quality Control\n",
    "\n",
    "Controlling the quality of both inputs and outputs is of great significance in data analyses to achieve valid results.\n",
    "\n",
    "* <a href=#bookmark1>Missing Values</a>\n",
    "* <a href=#bookmark2>Outliers</a>"
   ]
  },
  {
   "cell_type": "code",
   "execution_count": 1,
   "metadata": {
    "collapsed": false
   },
   "outputs": [],
   "source": [
    "# Import necessary packages\n",
    "import smv\n",
    "import sys\n",
    "from pandas import *\n",
    "from pyspark.sql import HiveContext, DataFrame\n",
    "from pyspark.sql.window import Window\n",
    "\n",
    "%matplotlib inline\n",
    "import matplotlib\n",
    "import matplotlib.pyplot as plt\n",
    "\n",
    "raw = openCsv(\"data/input/employment/CB1200CZ11.csv\")"
   ]
  },
  {
   "cell_type": "code",
   "execution_count": 2,
   "metadata": {
    "collapsed": true
   },
   "outputs": [],
   "source": [
    "DataFrame.smvPdHist = lambda df,col,n: df.toPandas()[col].hist(bins=n, alpha=0.3, color='k')"
   ]
  },
  {
   "cell_type": "markdown",
   "metadata": {
    "collapsed": false
   },
   "source": [
    "<a name='bookmark1'/>\n",
    "## Missing Values    "
   ]
  },
  {
   "cell_type": "markdown",
   "metadata": {},
   "source": [
    "In real life datasets, some observations often have missing values for given variables. Data analysts should pay special attention to these missing values in terms of the reason and meaning of missing values, which may suggest an appropriate treatment for missing values in later analyses."
   ]
  },
  {
   "cell_type": "markdown",
   "metadata": {},
   "source": [
    "### Reasons for Missing Values   \n",
    "There could be many reasons for missing values in different columns, and before checking the data in detail and understanding the business meaning of a column, it is not suggested to assume the reason for missing values."
   ]
  },
  {
   "cell_type": "markdown",
   "metadata": {
    "collapsed": true
   },
   "source": [
    "#### 1. Systematic    \n",
    "As what we have discussed in the column cross-check example in input data profile, the missing values of in the data suppression flag \"PAYANN_F\" are systematic: for all observations with positive \"PAYANN\" value, \"PAYANN_F\" is of null value. "
   ]
  },
  {
   "cell_type": "code",
   "execution_count": 3,
   "metadata": {
    "collapsed": false
   },
   "outputs": [
    {
     "name": "stdout",
     "output_type": "stream",
     "text": [
      "Histogram of PAYANN_F: String sort by Key\n",
      "key                      count      Pct    cumCount   cumPct\n",
      "null                     31729   81.74%       31729   81.74%\n",
      "D                         7089   18.26%       38818  100.00%\n",
      "-------------------------------------------------\n"
     ]
    }
   ],
   "source": [
    "raw.smvHist(\"PAYANN_F\")"
   ]
  },
  {
   "cell_type": "code",
   "execution_count": 4,
   "metadata": {
    "collapsed": false,
    "scrolled": true
   },
   "outputs": [
    {
     "name": "stdout",
     "output_type": "stream",
     "text": [
      "PAYANN_F             Non-Null Count         0\n",
      "PAYANN_F             Min Length             null\n",
      "PAYANN_F             Max Length             null\n",
      "PAYANN_F             Approx Distinct Count  0\n"
     ]
    }
   ],
   "source": [
    "raw.where(col(\"PAYANN\") > 0).smvEdd(\"PAYANN_F\")"
   ]
  },
  {
   "cell_type": "markdown",
   "metadata": {},
   "source": [
    "#### 2. Random    \n",
    "There is a random percent of observations with missing values. Assume we send the employment data to a data vendor to append information about the average age of paid employees of each county. However, after we receive the age data, the coverage of counties is only 50% and there is no systematic pattern of which county has the value and which does not. "
   ]
  },
  {
   "cell_type": "code",
   "execution_count": 5,
   "metadata": {
    "collapsed": false
   },
   "outputs": [
    {
     "name": "stdout",
     "output_type": "stream",
     "text": [
      "Histogram of AVG_EMP_AGE: with BIN size 5.0\n",
      "key                      count      Pct    cumCount   cumPct\n",
      "null                     19365   49.89%       19365   49.89%\n",
      "35.0                      7553   19.46%       26918   69.34%\n",
      "40.0                      7538   19.42%       34456   88.76%\n",
      "45.0                      4362   11.24%       38818  100.00%\n",
      "-------------------------------------------------\n"
     ]
    }
   ],
   "source": [
    "# Note that the data set is dummied only for this tutorial purpose\n",
    "county_demo_stats = openCsv(\"../dummy_data/county_demo_stats.csv\")\n",
    "\n",
    "# Append to employment data\n",
    "raw_with_age = raw.smvJoinByKey(county_demo_stats, [\"ZIPCODE\"], \"leftouter\").cache()\n",
    "\n",
    "# Check missing rate\n",
    "raw_with_age.smvBinHist((\"AVG_EMP_AGE\",5))"
   ]
  },
  {
   "cell_type": "markdown",
   "metadata": {},
   "source": [
    "When we use this data, the \"AVG_EMP_AGE\" variable and any new variable created using the variable will have at least 50% missing values."
   ]
  },
  {
   "cell_type": "markdown",
   "metadata": {},
   "source": [
    "### Treatment for Missing Values    \n",
    "Usually missing values need to be treated or recoded in the later analytic view before performing further analyses or modeling. For missing values in categorical variables like the example above, one can impute the missing value to a string value (for example, \"na\"). With respect to numerical variables, the imputation method needs to depend on the meaning of the missing values. It does not always make sense to impute missing into zeros, for example one should not impute a variable like age to 0 if it is missing."
   ]
  },
  {
   "cell_type": "markdown",
   "metadata": {},
   "source": [
    "<a name='bookmark2'/>\n",
    "## Outliers "
   ]
  },
  {
   "cell_type": "markdown",
   "metadata": {},
   "source": [
    "Numerical variables may have outliers where those observations are very distant from other observations."
   ]
  },
  {
   "cell_type": "markdown",
   "metadata": {},
   "source": [
    "### Check for Outilers"
   ]
  },
  {
   "cell_type": "code",
   "execution_count": 6,
   "metadata": {
    "collapsed": false,
    "scrolled": true
   },
   "outputs": [
    {
     "data": {
      "text/plain": [
       "11629"
      ]
     },
     "execution_count": 6,
     "metadata": {},
     "output_type": "execute_result"
    }
   ],
   "source": [
    "# take a sample since toPandas will load all data to memory, which is risky when data size is large\n",
    "raw_sample = raw.sample(False, 0.3, 99).cache()\n",
    "raw_sample.count()"
   ]
  },
  {
   "cell_type": "code",
   "execution_count": 7,
   "metadata": {
    "collapsed": false
   },
   "outputs": [
    {
     "data": {
      "text/html": [
       "<div>\n",
       "<table border=\"1\" class=\"dataframe\">\n",
       "  <thead>\n",
       "    <tr style=\"text-align: right;\">\n",
       "      <th></th>\n",
       "      <th>ESTAB</th>\n",
       "    </tr>\n",
       "  </thead>\n",
       "  <tbody>\n",
       "    <tr>\n",
       "      <th>0.00</th>\n",
       "      <td>1.00</td>\n",
       "    </tr>\n",
       "    <tr>\n",
       "      <th>0.01</th>\n",
       "      <td>1.00</td>\n",
       "    </tr>\n",
       "    <tr>\n",
       "      <th>0.05</th>\n",
       "      <td>2.00</td>\n",
       "    </tr>\n",
       "    <tr>\n",
       "      <th>0.50</th>\n",
       "      <td>30.00</td>\n",
       "    </tr>\n",
       "    <tr>\n",
       "      <th>0.95</th>\n",
       "      <td>912.80</td>\n",
       "    </tr>\n",
       "    <tr>\n",
       "      <th>0.99</th>\n",
       "      <td>1642.72</td>\n",
       "    </tr>\n",
       "    <tr>\n",
       "      <th>1.00</th>\n",
       "      <td>5933.00</td>\n",
       "    </tr>\n",
       "  </tbody>\n",
       "</table>\n",
       "</div>"
      ],
      "text/plain": [
       "        ESTAB\n",
       "0.00     1.00\n",
       "0.01     1.00\n",
       "0.05     2.00\n",
       "0.50    30.00\n",
       "0.95   912.80\n",
       "0.99  1642.72\n",
       "1.00  5933.00"
      ]
     },
     "execution_count": 7,
     "metadata": {},
     "output_type": "execute_result"
    }
   ],
   "source": [
    "raw_sample.select(\"ESTAB\").toPandas().quantile([0,0.01,0.05,0.5,0.95,0.99,1])"
   ]
  },
  {
   "cell_type": "markdown",
   "metadata": {},
   "source": [
    "From the quantiles we can check different percentiles (P1, P5, P95, P99) with min and max to see if \"ESTAB\" has a big outlier issue. \n",
    "\n",
    "One can also leverage the window specification and get the percentile of \"ESTAB\" with `ntile` to check for outliers."
   ]
  },
  {
   "cell_type": "code",
   "execution_count": 8,
   "metadata": {
    "collapsed": false
   },
   "outputs": [
    {
     "name": "stdout",
     "output_type": "stream",
     "text": [
      "+----------------+----------+\n",
      "|ESTAB_percentile|max(ESTAB)|\n",
      "+----------------+----------+\n",
      "|               1|         1|\n",
      "|               2|         1|\n",
      "|               3|         1|\n",
      "|               4|         1|\n",
      "|               5|         2|\n",
      "|              95|       914|\n",
      "|              96|      1016|\n",
      "|              97|      1163|\n",
      "|              98|      1353|\n",
      "|              99|      1643|\n",
      "|             100|      5933|\n",
      "+----------------+----------+\n",
      "\n"
     ]
    }
   ],
   "source": [
    "# define a windowSpec\n",
    "order_estab = Window.orderBy(\"ESTAB\")\n",
    "\n",
    "# calculate the percentile\n",
    "raw_sample_percentile = raw_sample.select(\n",
    "    \"ST\",\n",
    "    \"ZIPCODE\",\n",
    "    \"ESTAB\",\n",
    "    ntile(100).over(order_estab).alias(\"ESTAB_percentile\")\n",
    ")\n",
    "\n",
    "# check percentiles and the corresponding values\n",
    "raw_sample_percentile.where((col(\"ESTAB_percentile\")>=95)|(col(\"ESTAB_percentile\")<=5)).\\\n",
    "    groupBy(\"ESTAB_percentile\").agg(max(\"ESTAB\")).show()"
   ]
  },
  {
   "cell_type": "markdown",
   "metadata": {
    "collapsed": true
   },
   "source": [
    "### Treatment for Outilers   \n",
    "Usually there are 2 ways to handle the outliers:\n",
    "\n",
    "#### 1. Discard observation with outliers from data"
   ]
  },
  {
   "cell_type": "code",
   "execution_count": 9,
   "metadata": {
    "collapsed": false
   },
   "outputs": [
    {
     "data": {
      "text/plain": [
       "11513"
      ]
     },
     "execution_count": 9,
     "metadata": {},
     "output_type": "execute_result"
    }
   ],
   "source": [
    "# discard the observations with # of establishments exceeding 99 percentile\n",
    "raw_sample_filter = raw_sample_percentile.where(col(\"ESTAB_percentile\")<=99)\n",
    "\n",
    "# check output\n",
    "raw_sample_filter.count()"
   ]
  },
  {
   "cell_type": "markdown",
   "metadata": {},
   "source": [
    "116 records have been filtered out from the data."
   ]
  },
  {
   "cell_type": "markdown",
   "metadata": {},
   "source": [
    "#### 2. Recode outliers using P1/P99"
   ]
  },
  {
   "cell_type": "code",
   "execution_count": 10,
   "metadata": {
    "collapsed": false
   },
   "outputs": [
    {
     "data": {
      "text/plain": [
       "1643"
      ]
     },
     "execution_count": 10,
     "metadata": {},
     "output_type": "execute_result"
    }
   ],
   "source": [
    "# get p99\n",
    "estab_p99 = raw_sample_percentile.groupBy(\"ESTAB_percentile\").agg(max(\"ESTAB\")).collect()[98][1]\n",
    "estab_p99"
   ]
  },
  {
   "cell_type": "code",
   "execution_count": 11,
   "metadata": {
    "collapsed": false
   },
   "outputs": [
    {
     "data": {
      "text/html": [
       "<div>\n",
       "<table border=\"1\" class=\"dataframe\">\n",
       "  <thead>\n",
       "    <tr style=\"text-align: right;\">\n",
       "      <th></th>\n",
       "      <th>ESTAB_recode</th>\n",
       "    </tr>\n",
       "  </thead>\n",
       "  <tbody>\n",
       "    <tr>\n",
       "      <th>0.00</th>\n",
       "      <td>1.00</td>\n",
       "    </tr>\n",
       "    <tr>\n",
       "      <th>0.01</th>\n",
       "      <td>1.00</td>\n",
       "    </tr>\n",
       "    <tr>\n",
       "      <th>0.05</th>\n",
       "      <td>2.00</td>\n",
       "    </tr>\n",
       "    <tr>\n",
       "      <th>0.50</th>\n",
       "      <td>30.00</td>\n",
       "    </tr>\n",
       "    <tr>\n",
       "      <th>0.95</th>\n",
       "      <td>912.80</td>\n",
       "    </tr>\n",
       "    <tr>\n",
       "      <th>0.99</th>\n",
       "      <td>1642.72</td>\n",
       "    </tr>\n",
       "    <tr>\n",
       "      <th>1.00</th>\n",
       "      <td>1643.00</td>\n",
       "    </tr>\n",
       "  </tbody>\n",
       "</table>\n",
       "</div>"
      ],
      "text/plain": [
       "      ESTAB_recode\n",
       "0.00          1.00\n",
       "0.01          1.00\n",
       "0.05          2.00\n",
       "0.50         30.00\n",
       "0.95        912.80\n",
       "0.99       1642.72\n",
       "1.00       1643.00"
      ]
     },
     "execution_count": 11,
     "metadata": {},
     "output_type": "execute_result"
    }
   ],
   "source": [
    "# recode values above p99 with p99\n",
    "raw_sample_recode = raw_sample.smvSelectPlus(\n",
    "    when(col(\"ESTAB\") > estab_p99, estab_p99).otherwise(col(\"ESTAB\")).alias(\"ESTAB_recode\")\n",
    ")\n",
    "\n",
    "# check output\n",
    "raw_sample_recode.select(\"ESTAB_recode\").toPandas().quantile([0,0.01,0.05,0.5,0.95,0.99,1])"
   ]
  },
  {
   "cell_type": "code",
   "execution_count": null,
   "metadata": {
    "collapsed": true
   },
   "outputs": [],
   "source": []
  }
 ],
 "metadata": {
  "kernelspec": {
   "display_name": "Python 2",
   "language": "python",
   "name": "python2"
  },
  "language_info": {
   "codemirror_mode": {
    "name": "ipython",
    "version": 2
   },
   "file_extension": ".py",
   "mimetype": "text/x-python",
   "name": "python",
   "nbconvert_exporter": "python",
   "pygments_lexer": "ipython2",
   "version": "2.7.10"
  }
 },
 "nbformat": 4,
 "nbformat_minor": 1
}
