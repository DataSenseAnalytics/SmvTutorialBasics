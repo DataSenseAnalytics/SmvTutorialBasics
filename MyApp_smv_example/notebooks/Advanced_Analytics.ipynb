{
 "cells": [
  {
   "cell_type": "markdown",
   "metadata": {},
   "source": [
    "# Advanced Analytics\n",
    "\n",
    "Under this framework it is also convenient to run more advanced analytics like supervised or unsupervised learning algorithms. Given currently there is only one dataset covering limited features, we will show a few straightforward examples of advanced techniques.\n",
    "\n",
    "\n",
    "* <a href=#bookmark1>Bivariate Analysis</a>\n",
    "* <a href=#bookmark2>K-Means Clustering: A Simple Example</a>"
   ]
  },
  {
   "cell_type": "code",
   "execution_count": 1,
   "metadata": {
    "collapsed": true
   },
   "outputs": [],
   "source": [
    "# Import necessary packages\n",
    "import smv\n",
    "import pandas as pd\n",
    "from numpy import array\n",
    "from pyspark.sql import HiveContext, DataFrame\n",
    "\n",
    "%matplotlib inline\n",
    "import matplotlib\n",
    "import matplotlib.pyplot as plt"
   ]
  },
  {
   "cell_type": "code",
   "execution_count": 2,
   "metadata": {
    "collapsed": false
   },
   "outputs": [],
   "source": [
    "# Read the input data from a csv file\n",
    "raw = openCsv(\"data/input/employment/CB1200CZ11.csv\")\n",
    "raw_clean = raw.where((col(\"EMP_F\").isNull())&(col(\"ST\")!=99)).cache()"
   ]
  },
  {
   "cell_type": "markdown",
   "metadata": {},
   "source": [
    "----\n",
    "<a name='bookmark1'/>\n",
    "## Bivariate Analysis"
   ]
  },
  {
   "cell_type": "code",
   "execution_count": 3,
   "metadata": {
    "collapsed": false
   },
   "outputs": [
    {
     "data": {
      "text/plain": [
       "0.23626089869715505"
      ]
     },
     "execution_count": 3,
     "metadata": {},
     "output_type": "execute_result"
    }
   ],
   "source": [
    "# Pearson correlation\n",
    "raw_clean.select(\n",
    "    (col(\"PAYANN\")/col(\"EMP\")).alias(\"PAYANN_per_EMP\"),\n",
    "    \"ESTAB\"\n",
    ").corr(\"PAYANN_per_EMP\", \"ESTAB\")"
   ]
  },
  {
   "cell_type": "markdown",
   "metadata": {},
   "source": [
    "----\n",
    "<a name='bookmark2'/>\n",
    "## K-Means Clustering: A Simple Example"
   ]
  },
  {
   "cell_type": "markdown",
   "metadata": {},
   "source": [
    "Suppose we are interested to see which states are relatively similar in terms of average payroll per employee and # of establishments. What we can do is to run a clustering based on these features. One of the standard clustering algorithms is K-Means, which is supported in both the scikit-learn package in Python and ml package in PySpark."
   ]
  },
  {
   "cell_type": "markdown",
   "metadata": {},
   "source": [
    "Before running the clustering, we firstly create features that will be used to cluster states."
   ]
  },
  {
   "cell_type": "code",
   "execution_count": 4,
   "metadata": {
    "collapsed": false
   },
   "outputs": [],
   "source": [
    "all_feature = raw_clean.groupBy(\"ST\").agg(\n",
    "    avg(col(\"PAYANN\")/col(\"EMP\")).alias(\"avg_PAYANN_per_EMP\"),\n",
    "    avg(col(\"ESTAB\")).alias(\"avg_ESTAB\")\n",
    ").na.drop()"
   ]
  },
  {
   "cell_type": "markdown",
   "metadata": {},
   "source": [
    "#### Scikit-Learn Package"
   ]
  },
  {
   "cell_type": "code",
   "execution_count": 5,
   "metadata": {
    "collapsed": true
   },
   "outputs": [],
   "source": [
    "from sklearn.cluster import KMeans"
   ]
  },
  {
   "cell_type": "code",
   "execution_count": 6,
   "metadata": {
    "collapsed": false
   },
   "outputs": [],
   "source": [
    "# format model input\n",
    "feature_arrays = all_feature.drop(\"ST\").toPandas().values"
   ]
  },
  {
   "cell_type": "code",
   "execution_count": 7,
   "metadata": {
    "collapsed": false
   },
   "outputs": [],
   "source": [
    "y_pred = KMeans(n_clusters=5).fit_predict(feature_arrays)"
   ]
  },
  {
   "cell_type": "code",
   "execution_count": 8,
   "metadata": {
    "collapsed": false
   },
   "outputs": [
    {
     "data": {
      "text/plain": [
       "array([2, 1, 3, 2, 4, 4, 4, 2, 3, 2, 0, 3, 3, 3, 3, 0, 3, 3, 1, 1, 1, 2, 2,\n",
       "       4, 4, 2, 3, 3, 1, 4, 4, 4, 4, 2, 3, 4, 3, 4, 3, 1, 2, 1, 4, 3, 4, 3,\n",
       "       1, 2, 1, 3, 3], dtype=int32)"
      ]
     },
     "execution_count": 8,
     "metadata": {},
     "output_type": "execute_result"
    }
   ],
   "source": [
    "y_pred"
   ]
  },
  {
   "cell_type": "code",
   "execution_count": 9,
   "metadata": {
    "collapsed": false
   },
   "outputs": [
    {
     "data": {
      "text/plain": [
       "<matplotlib.collections.PathCollection at 0x110e6cc50>"
      ]
     },
     "execution_count": 9,
     "metadata": {},
     "output_type": "execute_result"
    },
    {
     "data": {
      "image/png": "[encoded data removed]",
      "text/plain": [
       "<matplotlib.figure.Figure at 0x110ddb150>"
      ]
     },
     "metadata": {},
     "output_type": "display_data"
    }
   ],
   "source": [
    "plt.figure(figsize=(9,6))\n",
    "plt.scatter(feature_arrays[:,0], feature_arrays[:,1], c=y_pred)"
   ]
  },
  {
   "cell_type": "markdown",
   "metadata": {},
   "source": [
    "#### PySpark ML"
   ]
  },
  {
   "cell_type": "code",
   "execution_count": 10,
   "metadata": {
    "collapsed": true
   },
   "outputs": [],
   "source": [
    "from pyspark.ml.clustering import KMeans as ml_kmeans\n",
    "from pyspark.ml.feature import VectorAssembler"
   ]
  },
  {
   "cell_type": "code",
   "execution_count": 11,
   "metadata": {
    "collapsed": false
   },
   "outputs": [],
   "source": [
    "# Format input data: vectorize all features\n",
    "feature_lst = [\"avg_PAYANN_per_EMP\", \"avg_ESTAB\"]\n",
    "vecAssembler = VectorAssembler(inputCols=feature_lst, outputCol=\"features\")\n",
    "feature_sel = vecAssembler.transform(all_feature)"
   ]
  },
  {
   "cell_type": "code",
   "execution_count": 12,
   "metadata": {
    "collapsed": false
   },
   "outputs": [],
   "source": [
    "# Run clustering\n",
    "ml_kmeans_def = ml_kmeans(k=5, seed=1)\n",
    "model = ml_kmeans_def.fit(feature_sel)"
   ]
  },
  {
   "cell_type": "code",
   "execution_count": 13,
   "metadata": {
    "collapsed": false
   },
   "outputs": [
    {
     "data": {
      "text/plain": [
       "[array([  38.42128174,  384.66958233]),\n",
       " array([  33.32884978,  107.26749735]),\n",
       " array([  32.83855282,  161.63474717]),\n",
       " array([  38.92734204,  300.46473298]),\n",
       " array([  33.75191146,  213.36928972])]"
      ]
     },
     "execution_count": 13,
     "metadata": {},
     "output_type": "execute_result"
    }
   ],
   "source": [
    "# view centers of each cluster\n",
    "model.clusterCenters()"
   ]
  },
  {
   "cell_type": "code",
   "execution_count": 19,
   "metadata": {
    "collapsed": false
   },
   "outputs": [],
   "source": [
    "cluster = model.transform(feature_sel).cache()\n",
    "cluster_pd = cluster.toPandas()"
   ]
  },
  {
   "cell_type": "code",
   "execution_count": 20,
   "metadata": {
    "collapsed": false
   },
   "outputs": [],
   "source": [
    "feat1 = cluster_pd[\"avg_PAYANN_per_EMP\"].values.ravel()\n",
    "feat2 = cluster_pd[\"avg_ESTAB\"].values.ravel()\n",
    "pred = cluster_pd[\"prediction\"].values.ravel()"
   ]
  },
  {
   "cell_type": "code",
   "execution_count": 21,
   "metadata": {
    "collapsed": false
   },
   "outputs": [
    {
     "data": {
      "text/plain": [
       "<matplotlib.collections.PathCollection at 0x1116e9fd0>"
      ]
     },
     "execution_count": 21,
     "metadata": {},
     "output_type": "execute_result"
    },
    {
     "data": {
      "image/png": "[encoded data removed]",
      "text/plain": [
       "<matplotlib.figure.Figure at 0x1115c4610>"
      ]
     },
     "metadata": {},
     "output_type": "display_data"
    }
   ],
   "source": [
    "plt.figure(figsize=(9,6))\n",
    "plt.scatter(feat1, feat2, c=pred)"
   ]
  },
  {
   "cell_type": "markdown",
   "metadata": {},
   "source": [
    "We can further check the clusters and the states within each cluster"
   ]
  },
  {
   "cell_type": "code",
   "execution_count": 17,
   "metadata": {
    "collapsed": false,
    "scrolled": true
   },
   "outputs": [
    {
     "data": {
      "text/html": [
       "<div>\n",
       "<table border=\"1\" class=\"dataframe\">\n",
       "  <thead>\n",
       "    <tr style=\"text-align: right;\">\n",
       "      <th></th>\n",
       "      <th>ST</th>\n",
       "      <th>avg_PAYANN_per_EMP</th>\n",
       "      <th>avg_ESTAB</th>\n",
       "      <th>prediction</th>\n",
       "    </tr>\n",
       "  </thead>\n",
       "  <tbody>\n",
       "    <tr>\n",
       "      <th>45</th>\n",
       "      <td>44</td>\n",
       "      <td>37.246753</td>\n",
       "      <td>360.376623</td>\n",
       "      <td>0</td>\n",
       "    </tr>\n",
       "    <tr>\n",
       "      <th>36</th>\n",
       "      <td>34</td>\n",
       "      <td>45.247649</td>\n",
       "      <td>355.394984</td>\n",
       "      <td>0</td>\n",
       "    </tr>\n",
       "    <tr>\n",
       "      <th>34</th>\n",
       "      <td>32</td>\n",
       "      <td>36.076471</td>\n",
       "      <td>343.611765</td>\n",
       "      <td>0</td>\n",
       "    </tr>\n",
       "    <tr>\n",
       "      <th>15</th>\n",
       "      <td>12</td>\n",
       "      <td>33.391833</td>\n",
       "      <td>432.604692</td>\n",
       "      <td>0</td>\n",
       "    </tr>\n",
       "    <tr>\n",
       "      <th>10</th>\n",
       "      <td>06</td>\n",
       "      <td>40.995754</td>\n",
       "      <td>455.475584</td>\n",
       "      <td>0</td>\n",
       "    </tr>\n",
       "    <tr>\n",
       "      <th>13</th>\n",
       "      <td>10</td>\n",
       "      <td>37.569231</td>\n",
       "      <td>360.553846</td>\n",
       "      <td>0</td>\n",
       "    </tr>\n",
       "    <tr>\n",
       "      <th>0</th>\n",
       "      <td>50</td>\n",
       "      <td>33.106838</td>\n",
       "      <td>85.675214</td>\n",
       "      <td>1</td>\n",
       "    </tr>\n",
       "    <tr>\n",
       "      <th>47</th>\n",
       "      <td>46</td>\n",
       "      <td>30.968504</td>\n",
       "      <td>98.035433</td>\n",
       "      <td>1</td>\n",
       "    </tr>\n",
       "    <tr>\n",
       "      <th>40</th>\n",
       "      <td>38</td>\n",
       "      <td>38.149813</td>\n",
       "      <td>84.000000</td>\n",
       "      <td>1</td>\n",
       "    </tr>\n",
       "    <tr>\n",
       "      <th>33</th>\n",
       "      <td>31</td>\n",
       "      <td>30.689732</td>\n",
       "      <td>113.323661</td>\n",
       "      <td>1</td>\n",
       "    </tr>\n",
       "    <tr>\n",
       "      <th>22</th>\n",
       "      <td>20</td>\n",
       "      <td>32.567416</td>\n",
       "      <td>134.340824</td>\n",
       "      <td>1</td>\n",
       "    </tr>\n",
       "    <tr>\n",
       "      <th>21</th>\n",
       "      <td>19</td>\n",
       "      <td>32.039242</td>\n",
       "      <td>105.266576</td>\n",
       "      <td>1</td>\n",
       "    </tr>\n",
       "    <tr>\n",
       "      <th>25</th>\n",
       "      <td>23</td>\n",
       "      <td>32.594366</td>\n",
       "      <td>108.081461</td>\n",
       "      <td>1</td>\n",
       "    </tr>\n",
       "    <tr>\n",
       "      <th>9</th>\n",
       "      <td>05</td>\n",
       "      <td>29.594080</td>\n",
       "      <td>132.794926</td>\n",
       "      <td>1</td>\n",
       "    </tr>\n",
       "    <tr>\n",
       "      <th>3</th>\n",
       "      <td>54</td>\n",
       "      <td>31.526559</td>\n",
       "      <td>83.085450</td>\n",
       "      <td>1</td>\n",
       "    </tr>\n",
       "    <tr>\n",
       "      <th>7</th>\n",
       "      <td>02</td>\n",
       "      <td>42.051948</td>\n",
       "      <td>128.071429</td>\n",
       "      <td>1</td>\n",
       "    </tr>\n",
       "    <tr>\n",
       "      <th>31</th>\n",
       "      <td>29</td>\n",
       "      <td>28.863065</td>\n",
       "      <td>179.663317</td>\n",
       "      <td>2</td>\n",
       "    </tr>\n",
       "    <tr>\n",
       "      <th>42</th>\n",
       "      <td>40</td>\n",
       "      <td>33.703237</td>\n",
       "      <td>160.305755</td>\n",
       "      <td>2</td>\n",
       "    </tr>\n",
       "    <tr>\n",
       "      <th>37</th>\n",
       "      <td>35</td>\n",
       "      <td>32.299145</td>\n",
       "      <td>182.461538</td>\n",
       "      <td>2</td>\n",
       "    </tr>\n",
       "    <tr>\n",
       "      <th>35</th>\n",
       "      <td>33</td>\n",
       "      <td>36.665179</td>\n",
       "      <td>162.209821</td>\n",
       "      <td>2</td>\n",
       "    </tr>\n",
       "    <tr>\n",
       "      <th>23</th>\n",
       "      <td>21</td>\n",
       "      <td>30.848101</td>\n",
       "      <td>158.942134</td>\n",
       "      <td>2</td>\n",
       "    </tr>\n",
       "    <tr>\n",
       "      <th>5</th>\n",
       "      <td>56</td>\n",
       "      <td>40.406250</td>\n",
       "      <td>157.664062</td>\n",
       "      <td>2</td>\n",
       "    </tr>\n",
       "    <tr>\n",
       "      <th>6</th>\n",
       "      <td>01</td>\n",
       "      <td>32.594915</td>\n",
       "      <td>162.645763</td>\n",
       "      <td>2</td>\n",
       "    </tr>\n",
       "    <tr>\n",
       "      <th>32</th>\n",
       "      <td>30</td>\n",
       "      <td>30.000000</td>\n",
       "      <td>147.373950</td>\n",
       "      <td>2</td>\n",
       "    </tr>\n",
       "    <tr>\n",
       "      <th>30</th>\n",
       "      <td>28</td>\n",
       "      <td>30.167082</td>\n",
       "      <td>143.446384</td>\n",
       "      <td>2</td>\n",
       "    </tr>\n",
       "    <tr>\n",
       "      <th>2</th>\n",
       "      <td>53</td>\n",
       "      <td>37.187387</td>\n",
       "      <td>313.118919</td>\n",
       "      <td>3</td>\n",
       "    </tr>\n",
       "    <tr>\n",
       "      <th>43</th>\n",
       "      <td>41</td>\n",
       "      <td>33.346154</td>\n",
       "      <td>290.778082</td>\n",
       "      <td>3</td>\n",
       "    </tr>\n",
       "    <tr>\n",
       "      <th>38</th>\n",
       "      <td>36</td>\n",
       "      <td>39.767498</td>\n",
       "      <td>317.178332</td>\n",
       "      <td>3</td>\n",
       "    </tr>\n",
       "    <tr>\n",
       "      <th>12</th>\n",
       "      <td>09</td>\n",
       "      <td>46.757576</td>\n",
       "      <td>293.831650</td>\n",
       "      <td>3</td>\n",
       "    </tr>\n",
       "    <tr>\n",
       "      <th>11</th>\n",
       "      <td>08</td>\n",
       "      <td>38.406780</td>\n",
       "      <td>320.889831</td>\n",
       "      <td>3</td>\n",
       "    </tr>\n",
       "    <tr>\n",
       "      <th>50</th>\n",
       "      <td>49</td>\n",
       "      <td>34.454167</td>\n",
       "      <td>288.037500</td>\n",
       "      <td>3</td>\n",
       "    </tr>\n",
       "    <tr>\n",
       "      <th>27</th>\n",
       "      <td>25</td>\n",
       "      <td>43.566607</td>\n",
       "      <td>301.506217</td>\n",
       "      <td>3</td>\n",
       "    </tr>\n",
       "    <tr>\n",
       "      <th>26</th>\n",
       "      <td>24</td>\n",
       "      <td>37.460137</td>\n",
       "      <td>302.938497</td>\n",
       "      <td>3</td>\n",
       "    </tr>\n",
       "    <tr>\n",
       "      <th>49</th>\n",
       "      <td>48</td>\n",
       "      <td>37.763130</td>\n",
       "      <td>285.016604</td>\n",
       "      <td>3</td>\n",
       "    </tr>\n",
       "    <tr>\n",
       "      <th>8</th>\n",
       "      <td>04</td>\n",
       "      <td>33.647208</td>\n",
       "      <td>328.114213</td>\n",
       "      <td>3</td>\n",
       "    </tr>\n",
       "    <tr>\n",
       "      <th>19</th>\n",
       "      <td>17</td>\n",
       "      <td>35.616509</td>\n",
       "      <td>265.566638</td>\n",
       "      <td>3</td>\n",
       "    </tr>\n",
       "    <tr>\n",
       "      <th>14</th>\n",
       "      <td>11</td>\n",
       "      <td>60.449275</td>\n",
       "      <td>304.710145</td>\n",
       "      <td>3</td>\n",
       "    </tr>\n",
       "    <tr>\n",
       "      <th>16</th>\n",
       "      <td>13</td>\n",
       "      <td>32.727027</td>\n",
       "      <td>289.260811</td>\n",
       "      <td>3</td>\n",
       "    </tr>\n",
       "    <tr>\n",
       "      <th>17</th>\n",
       "      <td>15</td>\n",
       "      <td>33.833333</td>\n",
       "      <td>305.558824</td>\n",
       "      <td>3</td>\n",
       "    </tr>\n",
       "    <tr>\n",
       "      <th>48</th>\n",
       "      <td>47</td>\n",
       "      <td>32.632013</td>\n",
       "      <td>212.397690</td>\n",
       "      <td>4</td>\n",
       "    </tr>\n",
       "    <tr>\n",
       "      <th>1</th>\n",
       "      <td>51</td>\n",
       "      <td>34.760766</td>\n",
       "      <td>226.145933</td>\n",
       "      <td>4</td>\n",
       "    </tr>\n",
       "    <tr>\n",
       "      <th>46</th>\n",
       "      <td>45</td>\n",
       "      <td>32.030733</td>\n",
       "      <td>236.678487</td>\n",
       "      <td>4</td>\n",
       "    </tr>\n",
       "    <tr>\n",
       "      <th>44</th>\n",
       "      <td>42</td>\n",
       "      <td>34.068807</td>\n",
       "      <td>190.245740</td>\n",
       "      <td>4</td>\n",
       "    </tr>\n",
       "    <tr>\n",
       "      <th>28</th>\n",
       "      <td>26</td>\n",
       "      <td>34.775269</td>\n",
       "      <td>230.439785</td>\n",
       "      <td>4</td>\n",
       "    </tr>\n",
       "    <tr>\n",
       "      <th>29</th>\n",
       "      <td>27</td>\n",
       "      <td>34.143432</td>\n",
       "      <td>191.335121</td>\n",
       "      <td>4</td>\n",
       "    </tr>\n",
       "    <tr>\n",
       "      <th>39</th>\n",
       "      <td>37</td>\n",
       "      <td>32.203271</td>\n",
       "      <td>249.647196</td>\n",
       "      <td>4</td>\n",
       "    </tr>\n",
       "    <tr>\n",
       "      <th>20</th>\n",
       "      <td>18</td>\n",
       "      <td>33.219512</td>\n",
       "      <td>203.358680</td>\n",
       "      <td>4</td>\n",
       "    </tr>\n",
       "    <tr>\n",
       "      <th>4</th>\n",
       "      <td>55</td>\n",
       "      <td>33.409405</td>\n",
       "      <td>188.614108</td>\n",
       "      <td>4</td>\n",
       "    </tr>\n",
       "    <tr>\n",
       "      <th>24</th>\n",
       "      <td>22</td>\n",
       "      <td>37.508539</td>\n",
       "      <td>194.123340</td>\n",
       "      <td>4</td>\n",
       "    </tr>\n",
       "    <tr>\n",
       "      <th>41</th>\n",
       "      <td>39</td>\n",
       "      <td>34.565877</td>\n",
       "      <td>234.150711</td>\n",
       "      <td>4</td>\n",
       "    </tr>\n",
       "    <tr>\n",
       "      <th>18</th>\n",
       "      <td>16</td>\n",
       "      <td>31.705314</td>\n",
       "      <td>203.294686</td>\n",
       "      <td>4</td>\n",
       "    </tr>\n",
       "  </tbody>\n",
       "</table>\n",
       "</div>"
      ],
      "text/plain": [
       "    ST  avg_PAYANN_per_EMP   avg_ESTAB  prediction\n",
       "45  44           37.246753  360.376623           0\n",
       "36  34           45.247649  355.394984           0\n",
       "34  32           36.076471  343.611765           0\n",
       "15  12           33.391833  432.604692           0\n",
       "10  06           40.995754  455.475584           0\n",
       "13  10           37.569231  360.553846           0\n",
       "0   50           33.106838   85.675214           1\n",
       "47  46           30.968504   98.035433           1\n",
       "40  38           38.149813   84.000000           1\n",
       "33  31           30.689732  113.323661           1\n",
       "22  20           32.567416  134.340824           1\n",
       "21  19           32.039242  105.266576           1\n",
       "25  23           32.594366  108.081461           1\n",
       "9   05           29.594080  132.794926           1\n",
       "3   54           31.526559   83.085450           1\n",
       "7   02           42.051948  128.071429           1\n",
       "31  29           28.863065  179.663317           2\n",
       "42  40           33.703237  160.305755           2\n",
       "37  35           32.299145  182.461538           2\n",
       "35  33           36.665179  162.209821           2\n",
       "23  21           30.848101  158.942134           2\n",
       "5   56           40.406250  157.664062           2\n",
       "6   01           32.594915  162.645763           2\n",
       "32  30           30.000000  147.373950           2\n",
       "30  28           30.167082  143.446384           2\n",
       "2   53           37.187387  313.118919           3\n",
       "43  41           33.346154  290.778082           3\n",
       "38  36           39.767498  317.178332           3\n",
       "12  09           46.757576  293.831650           3\n",
       "11  08           38.406780  320.889831           3\n",
       "50  49           34.454167  288.037500           3\n",
       "27  25           43.566607  301.506217           3\n",
       "26  24           37.460137  302.938497           3\n",
       "49  48           37.763130  285.016604           3\n",
       "8   04           33.647208  328.114213           3\n",
       "19  17           35.616509  265.566638           3\n",
       "14  11           60.449275  304.710145           3\n",
       "16  13           32.727027  289.260811           3\n",
       "17  15           33.833333  305.558824           3\n",
       "48  47           32.632013  212.397690           4\n",
       "1   51           34.760766  226.145933           4\n",
       "46  45           32.030733  236.678487           4\n",
       "44  42           34.068807  190.245740           4\n",
       "28  26           34.775269  230.439785           4\n",
       "29  27           34.143432  191.335121           4\n",
       "39  37           32.203271  249.647196           4\n",
       "20  18           33.219512  203.358680           4\n",
       "4   55           33.409405  188.614108           4\n",
       "24  22           37.508539  194.123340           4\n",
       "41  39           34.565877  234.150711           4\n",
       "18  16           31.705314  203.294686           4"
      ]
     },
     "execution_count": 17,
     "metadata": {},
     "output_type": "execute_result"
    }
   ],
   "source": [
    "cluster_pd.sort_values(by='prediction').head(51)"
   ]
  },
  {
   "cell_type": "code",
   "execution_count": 18,
   "metadata": {
    "collapsed": false
   },
   "outputs": [
    {
     "data": {
      "text/plain": [
       "<matplotlib.axes.AxesSubplot at 0x1113d1a90>"
      ]
     },
     "execution_count": 18,
     "metadata": {},
     "output_type": "execute_result"
    },
    {
     "data": {
      "image/png": "[encoded data removed]",
      "text/plain": [
       "<matplotlib.figure.Figure at 0x1113e32d0>"
      ]
     },
     "metadata": {},
     "output_type": "display_data"
    }
   ],
   "source": [
    "cluster_pd['prediction'].plot(kind='hist', xticks=[0,1,2,3,4], color='g', alpha=0.3)"
   ]
  },
  {
   "cell_type": "code",
   "execution_count": null,
   "metadata": {
    "collapsed": true
   },
   "outputs": [],
   "source": []
  }
 ],
 "metadata": {
  "kernelspec": {
   "display_name": "Python 2",
   "language": "python",
   "name": "python2"
  },
  "language_info": {
   "codemirror_mode": {
    "name": "ipython",
    "version": 2
   },
   "file_extension": ".py",
   "mimetype": "text/x-python",
   "name": "python",
   "nbconvert_exporter": "python",
   "pygments_lexer": "ipython2",
   "version": "2.7.10"
  }
 },
 "nbformat": 4,
 "nbformat_minor": 1
}
